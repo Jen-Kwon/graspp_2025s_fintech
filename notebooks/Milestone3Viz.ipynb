{
 "cells": [
  {
   "cell_type": "markdown",
   "id": "08d64740",
   "metadata": {},
   "source": [
    "# Milestone 3 Visualization Notebook"
   ]
  },
  {
   "cell_type": "code",
   "execution_count": null,
   "id": "bc8b38b4",
   "metadata": {},
   "outputs": [],
   "source": [
    "from MilestoneViz import MilestoneViz\n",
    "viz = MilestoneViz()\n",
    "\n",
    "#Importations\n",
    "import pandas as pd\n",
    "import numpy as np\n",
    "import requests\n",
    "import io\n",
    "import os\n",
    "import seaborn as sns\n",
    "import matplotlib.pyplot as plt \n",
    "import statsmodels.api as sm\n",
    "import plotly.express as px"
   ]
  },
  {
   "cell_type": "code",
   "execution_count": 24,
   "id": "da52873a",
   "metadata": {},
   "outputs": [],
   "source": [
    "#To Reload\n",
    "import MilestoneViz\n",
    "import importlib\n",
    "importlib.reload(MilestoneViz)\n",
    "from MilestoneViz import MilestoneViz\n",
    "viz = MilestoneViz()"
   ]
  },
  {
   "cell_type": "code",
   "execution_count": 38,
   "id": "ab76ea03",
   "metadata": {},
   "outputs": [
    {
     "data": {
      "text/html": [
       "<div>\n",
       "<style scoped>\n",
       "    .dataframe tbody tr th:only-of-type {\n",
       "        vertical-align: middle;\n",
       "    }\n",
       "\n",
       "    .dataframe tbody tr th {\n",
       "        vertical-align: top;\n",
       "    }\n",
       "\n",
       "    .dataframe thead th {\n",
       "        text-align: right;\n",
       "    }\n",
       "</style>\n",
       "<table border=\"1\" class=\"dataframe\">\n",
       "  <thead>\n",
       "    <tr style=\"text-align: right;\">\n",
       "      <th></th>\n",
       "      <th></th>\n",
       "      <th>Food supply quantity (kg/capita/yr)_Cereals - Excluding Beer</th>\n",
       "      <th>Food supply quantity (kg/capita/yr)_Starchy Roots</th>\n",
       "      <th>rolling_std</th>\n",
       "      <th>Rural Access to Electricity(Percent of Population)</th>\n",
       "      <th>Mobile Cellular Subscriptions (per 100 people)</th>\n",
       "      <th>Fixed Broadband Subsciptions (per 100 people)</th>\n",
       "      <th>region</th>\n",
       "      <th>Agriculture, forestry, and fishing, value added (percent of GDP)</th>\n",
       "      <th>Crop production index (2014-2016 = 100)</th>\n",
       "      <th>Account (% age 15+)</th>\n",
       "      <th>...</th>\n",
       "      <th>Fertility rate, total (births per woman)</th>\n",
       "      <th>GDP per capita, PPP (constant 2021 international $)</th>\n",
       "      <th>Life expectancy at birth, total (years)</th>\n",
       "      <th>Mortality rate, infant (per 1,000 live births)</th>\n",
       "      <th>Population density (people per sq. km of land area)</th>\n",
       "      <th>Population growth (annual %)</th>\n",
       "      <th>Population, total</th>\n",
       "      <th>Poverty headcount ratio at national poverty lines (% of population)</th>\n",
       "      <th>Rural population (% of total population)</th>\n",
       "      <th>Urban population (% of total population)</th>\n",
       "    </tr>\n",
       "    <tr>\n",
       "      <th>code</th>\n",
       "      <th>year</th>\n",
       "      <th></th>\n",
       "      <th></th>\n",
       "      <th></th>\n",
       "      <th></th>\n",
       "      <th></th>\n",
       "      <th></th>\n",
       "      <th></th>\n",
       "      <th></th>\n",
       "      <th></th>\n",
       "      <th></th>\n",
       "      <th></th>\n",
       "      <th></th>\n",
       "      <th></th>\n",
       "      <th></th>\n",
       "      <th></th>\n",
       "      <th></th>\n",
       "      <th></th>\n",
       "      <th></th>\n",
       "      <th></th>\n",
       "      <th></th>\n",
       "      <th></th>\n",
       "    </tr>\n",
       "  </thead>\n",
       "  <tbody>\n",
       "    <tr>\n",
       "      <th rowspan=\"5\" valign=\"top\">BGD</th>\n",
       "      <th>2011</th>\n",
       "      <td>278.27</td>\n",
       "      <td>47.40</td>\n",
       "      <td>46.219922</td>\n",
       "      <td>45.7</td>\n",
       "      <td>56.166790</td>\n",
       "      <td>0.305031</td>\n",
       "      <td>SA</td>\n",
       "      <td>16.809987</td>\n",
       "      <td>93.78</td>\n",
       "      <td>31.740000</td>\n",
       "      <td>...</td>\n",
       "      <td>2.309</td>\n",
       "      <td>4352.426434</td>\n",
       "      <td>68.499</td>\n",
       "      <td>35.4</td>\n",
       "      <td>1179.926834</td>\n",
       "      <td>0.908526</td>\n",
       "      <td>153591076.0</td>\n",
       "      <td>NaN</td>\n",
       "      <td>68.775</td>\n",
       "      <td>31.225</td>\n",
       "    </tr>\n",
       "    <tr>\n",
       "      <th>2012</th>\n",
       "      <td>278.22</td>\n",
       "      <td>48.06</td>\n",
       "      <td>45.756559</td>\n",
       "      <td>53.8</td>\n",
       "      <td>63.896104</td>\n",
       "      <td>0.387219</td>\n",
       "      <td>SA</td>\n",
       "      <td>16.177563</td>\n",
       "      <td>94.27</td>\n",
       "      <td>31.490000</td>\n",
       "      <td>...</td>\n",
       "      <td>2.263</td>\n",
       "      <td>4592.048409</td>\n",
       "      <td>68.989</td>\n",
       "      <td>34.1</td>\n",
       "      <td>1191.289091</td>\n",
       "      <td>0.958356</td>\n",
       "      <td>155070101.0</td>\n",
       "      <td>NaN</td>\n",
       "      <td>68.007</td>\n",
       "      <td>31.993</td>\n",
       "    </tr>\n",
       "    <tr>\n",
       "      <th>2013</th>\n",
       "      <td>273.69</td>\n",
       "      <td>48.70</td>\n",
       "      <td>36.231714</td>\n",
       "      <td>48.6</td>\n",
       "      <td>75.669007</td>\n",
       "      <td>0.974448</td>\n",
       "      <td>SA</td>\n",
       "      <td>15.493278</td>\n",
       "      <td>96.58</td>\n",
       "      <td>31.240000</td>\n",
       "      <td>...</td>\n",
       "      <td>2.247</td>\n",
       "      <td>4822.726214</td>\n",
       "      <td>69.487</td>\n",
       "      <td>32.7</td>\n",
       "      <td>1202.520865</td>\n",
       "      <td>0.938408</td>\n",
       "      <td>156532141.0</td>\n",
       "      <td>NaN</td>\n",
       "      <td>67.238</td>\n",
       "      <td>32.762</td>\n",
       "    </tr>\n",
       "    <tr>\n",
       "      <th>2014</th>\n",
       "      <td>272.78</td>\n",
       "      <td>49.29</td>\n",
       "      <td>2.619036</td>\n",
       "      <td>48.1</td>\n",
       "      <td>81.344598</td>\n",
       "      <td>1.958140</td>\n",
       "      <td>SA</td>\n",
       "      <td>15.351621</td>\n",
       "      <td>98.76</td>\n",
       "      <td>30.990000</td>\n",
       "      <td>...</td>\n",
       "      <td>2.228</td>\n",
       "      <td>5068.639657</td>\n",
       "      <td>70.016</td>\n",
       "      <td>31.4</td>\n",
       "      <td>1213.527917</td>\n",
       "      <td>0.911168</td>\n",
       "      <td>157964929.0</td>\n",
       "      <td>NaN</td>\n",
       "      <td>66.465</td>\n",
       "      <td>33.535</td>\n",
       "    </tr>\n",
       "    <tr>\n",
       "      <th>2015</th>\n",
       "      <td>278.61</td>\n",
       "      <td>50.07</td>\n",
       "      <td>2.833060</td>\n",
       "      <td>63.8</td>\n",
       "      <td>83.238753</td>\n",
       "      <td>3.069920</td>\n",
       "      <td>SA</td>\n",
       "      <td>14.782996</td>\n",
       "      <td>100.69</td>\n",
       "      <td>37.343333</td>\n",
       "      <td>...</td>\n",
       "      <td>2.227</td>\n",
       "      <td>5352.711333</td>\n",
       "      <td>70.543</td>\n",
       "      <td>30.0</td>\n",
       "      <td>1224.423285</td>\n",
       "      <td>0.893819</td>\n",
       "      <td>159383179.0</td>\n",
       "      <td>NaN</td>\n",
       "      <td>65.692</td>\n",
       "      <td>34.308</td>\n",
       "    </tr>\n",
       "  </tbody>\n",
       "</table>\n",
       "<p>5 rows × 127 columns</p>\n",
       "</div>"
      ],
      "text/plain": [
       "           Food supply quantity (kg/capita/yr)_Cereals - Excluding Beer  \\\n",
       "code year                                                                 \n",
       "BGD  2011                                             278.27              \n",
       "     2012                                             278.22              \n",
       "     2013                                             273.69              \n",
       "     2014                                             272.78              \n",
       "     2015                                             278.61              \n",
       "\n",
       "           Food supply quantity (kg/capita/yr)_Starchy Roots  rolling_std  \\\n",
       "code year                                                                   \n",
       "BGD  2011                                              47.40    46.219922   \n",
       "     2012                                              48.06    45.756559   \n",
       "     2013                                              48.70    36.231714   \n",
       "     2014                                              49.29     2.619036   \n",
       "     2015                                              50.07     2.833060   \n",
       "\n",
       "           Rural Access to Electricity(Percent of Population)  \\\n",
       "code year                                                       \n",
       "BGD  2011                                               45.7    \n",
       "     2012                                               53.8    \n",
       "     2013                                               48.6    \n",
       "     2014                                               48.1    \n",
       "     2015                                               63.8    \n",
       "\n",
       "           Mobile Cellular Subscriptions (per 100 people)  \\\n",
       "code year                                                   \n",
       "BGD  2011                                       56.166790   \n",
       "     2012                                       63.896104   \n",
       "     2013                                       75.669007   \n",
       "     2014                                       81.344598   \n",
       "     2015                                       83.238753   \n",
       "\n",
       "           Fixed Broadband Subsciptions (per 100 people) region  \\\n",
       "code year                                                         \n",
       "BGD  2011                                       0.305031     SA   \n",
       "     2012                                       0.387219     SA   \n",
       "     2013                                       0.974448     SA   \n",
       "     2014                                       1.958140     SA   \n",
       "     2015                                       3.069920     SA   \n",
       "\n",
       "           Agriculture, forestry, and fishing, value added (percent of GDP)  \\\n",
       "code year                                                                     \n",
       "BGD  2011                                          16.809987                  \n",
       "     2012                                          16.177563                  \n",
       "     2013                                          15.493278                  \n",
       "     2014                                          15.351621                  \n",
       "     2015                                          14.782996                  \n",
       "\n",
       "           Crop production index (2014-2016 = 100)  Account (% age 15+)  ...  \\\n",
       "code year                                                                ...   \n",
       "BGD  2011                                    93.78            31.740000  ...   \n",
       "     2012                                    94.27            31.490000  ...   \n",
       "     2013                                    96.58            31.240000  ...   \n",
       "     2014                                    98.76            30.990000  ...   \n",
       "     2015                                   100.69            37.343333  ...   \n",
       "\n",
       "           Fertility rate, total (births per woman)  \\\n",
       "code year                                             \n",
       "BGD  2011                                     2.309   \n",
       "     2012                                     2.263   \n",
       "     2013                                     2.247   \n",
       "     2014                                     2.228   \n",
       "     2015                                     2.227   \n",
       "\n",
       "           GDP per capita, PPP (constant 2021 international $)  \\\n",
       "code year                                                        \n",
       "BGD  2011                                        4352.426434     \n",
       "     2012                                        4592.048409     \n",
       "     2013                                        4822.726214     \n",
       "     2014                                        5068.639657     \n",
       "     2015                                        5352.711333     \n",
       "\n",
       "           Life expectancy at birth, total (years)  \\\n",
       "code year                                            \n",
       "BGD  2011                                   68.499   \n",
       "     2012                                   68.989   \n",
       "     2013                                   69.487   \n",
       "     2014                                   70.016   \n",
       "     2015                                   70.543   \n",
       "\n",
       "           Mortality rate, infant (per 1,000 live births)  \\\n",
       "code year                                                   \n",
       "BGD  2011                                            35.4   \n",
       "     2012                                            34.1   \n",
       "     2013                                            32.7   \n",
       "     2014                                            31.4   \n",
       "     2015                                            30.0   \n",
       "\n",
       "           Population density (people per sq. km of land area)  \\\n",
       "code year                                                        \n",
       "BGD  2011                                        1179.926834     \n",
       "     2012                                        1191.289091     \n",
       "     2013                                        1202.520865     \n",
       "     2014                                        1213.527917     \n",
       "     2015                                        1224.423285     \n",
       "\n",
       "           Population growth (annual %)  Population, total  \\\n",
       "code year                                                    \n",
       "BGD  2011                      0.908526        153591076.0   \n",
       "     2012                      0.958356        155070101.0   \n",
       "     2013                      0.938408        156532141.0   \n",
       "     2014                      0.911168        157964929.0   \n",
       "     2015                      0.893819        159383179.0   \n",
       "\n",
       "           Poverty headcount ratio at national poverty lines (% of population)  \\\n",
       "code year                                                                        \n",
       "BGD  2011                                                NaN                     \n",
       "     2012                                                NaN                     \n",
       "     2013                                                NaN                     \n",
       "     2014                                                NaN                     \n",
       "     2015                                                NaN                     \n",
       "\n",
       "           Rural population (% of total population)  \\\n",
       "code year                                             \n",
       "BGD  2011                                    68.775   \n",
       "     2012                                    68.007   \n",
       "     2013                                    67.238   \n",
       "     2014                                    66.465   \n",
       "     2015                                    65.692   \n",
       "\n",
       "           Urban population (% of total population)  \n",
       "code year                                            \n",
       "BGD  2011                                    31.225  \n",
       "     2012                                    31.993  \n",
       "     2013                                    32.762  \n",
       "     2014                                    33.535  \n",
       "     2015                                    34.308  \n",
       "\n",
       "[5 rows x 127 columns]"
      ]
     },
     "execution_count": 38,
     "metadata": {},
     "output_type": "execute_result"
    }
   ],
   "source": [
    "df = pd.read_csv(\"../data/processed/second_merged.csv\")\n",
    "df = df.set_index(['code','year'])\n",
    "\n",
    "df.head()"
   ]
  },
  {
   "cell_type": "markdown",
   "id": "b471e29e",
   "metadata": {},
   "source": [
    "## Creating Line Plots (Time) of Y Variables\n",
    "### Account (% age 15+)"
   ]
  },
  {
   "cell_type": "code",
   "execution_count": 27,
   "id": "6aacfc6d",
   "metadata": {},
   "outputs": [
    {
     "data": {
      "image/png": "[encoded data removed]",
      "text/plain": [
       "<Figure size 640x480 with 1 Axes>"
      ]
     },
     "metadata": {},
     "output_type": "display_data"
    }
   ],
   "source": [
    "viz.lineplot(\n",
    "    df,\n",
    "    'year',\n",
    "    'Account (% age 15+)',\n",
    "    'code',\n",
    "    \"% of Pop. Age 15+ with a Financial Services Account\",\n",
    "    \"Year\",\n",
    "    \"Account (% age 15+)\")"
   ]
  },
  {
   "cell_type": "markdown",
   "id": "1da21dc4",
   "metadata": {},
   "source": [
    "### Crop Production Index (2014-2016 = 100)"
   ]
  },
  {
   "cell_type": "code",
   "execution_count": 29,
   "id": "df62c1c5",
   "metadata": {},
   "outputs": [
    {
     "data": {
      "image/png": "[encoded data removed]",
      "text/plain": [
       "<Figure size 640x480 with 1 Axes>"
      ]
     },
     "metadata": {},
     "output_type": "display_data"
    }
   ],
   "source": [
    "viz.lineplot(\n",
    "    df,\n",
    "    'year',\n",
    "    'Crop production index (2014-2016 = 100)',\n",
    "    'code',\n",
    "    \"Crop production index (2014-2016 = 100) over Time\",\n",
    "    \"Year\",\n",
    "    \"Crop production index (2014-2016 = 100)\")"
   ]
  },
  {
   "cell_type": "code",
   "execution_count": 41,
   "id": "d549b38b",
   "metadata": {},
   "outputs": [
    {
     "data": {
      "text/html": [
       "<div>\n",
       "<style scoped>\n",
       "    .dataframe tbody tr th:only-of-type {\n",
       "        vertical-align: middle;\n",
       "    }\n",
       "\n",
       "    .dataframe tbody tr th {\n",
       "        vertical-align: top;\n",
       "    }\n",
       "\n",
       "    .dataframe thead th {\n",
       "        text-align: right;\n",
       "    }\n",
       "</style>\n",
       "<table border=\"1\" class=\"dataframe\">\n",
       "  <thead>\n",
       "    <tr style=\"text-align: right;\">\n",
       "      <th></th>\n",
       "      <th></th>\n",
       "      <th>Food supply quantity (kg/capita/yr)_Cereals - Excluding Beer</th>\n",
       "      <th>Food supply quantity (kg/capita/yr)_Starchy Roots</th>\n",
       "      <th>rolling_std</th>\n",
       "      <th>Rural Access to Electricity(Percent of Population)</th>\n",
       "      <th>Mobile Cellular Subscriptions (per 100 people)</th>\n",
       "      <th>Fixed Broadband Subsciptions (per 100 people)</th>\n",
       "      <th>region</th>\n",
       "      <th>Agriculture, forestry, and fishing, value added (percent of GDP)</th>\n",
       "      <th>Crop production index (2014-2016 = 100)</th>\n",
       "      <th>Account (% age 15+)</th>\n",
       "      <th>...</th>\n",
       "      <th>Life expectancy at birth, total (years)</th>\n",
       "      <th>Mortality rate, infant (per 1,000 live births)</th>\n",
       "      <th>Population density (people per sq. km of land area)</th>\n",
       "      <th>Population growth (annual %)</th>\n",
       "      <th>Population, total</th>\n",
       "      <th>Poverty headcount ratio at national poverty lines (% of population)</th>\n",
       "      <th>Rural population (% of total population)</th>\n",
       "      <th>Urban population (% of total population)</th>\n",
       "      <th>year</th>\n",
       "      <th>code</th>\n",
       "    </tr>\n",
       "    <tr>\n",
       "      <th>code</th>\n",
       "      <th>year</th>\n",
       "      <th></th>\n",
       "      <th></th>\n",
       "      <th></th>\n",
       "      <th></th>\n",
       "      <th></th>\n",
       "      <th></th>\n",
       "      <th></th>\n",
       "      <th></th>\n",
       "      <th></th>\n",
       "      <th></th>\n",
       "      <th></th>\n",
       "      <th></th>\n",
       "      <th></th>\n",
       "      <th></th>\n",
       "      <th></th>\n",
       "      <th></th>\n",
       "      <th></th>\n",
       "      <th></th>\n",
       "      <th></th>\n",
       "      <th></th>\n",
       "      <th></th>\n",
       "    </tr>\n",
       "  </thead>\n",
       "  <tbody>\n",
       "    <tr>\n",
       "      <th rowspan=\"5\" valign=\"top\">BGD</th>\n",
       "      <th>2011</th>\n",
       "      <td>278.27</td>\n",
       "      <td>47.40</td>\n",
       "      <td>46.219922</td>\n",
       "      <td>45.7</td>\n",
       "      <td>56.166790</td>\n",
       "      <td>0.305031</td>\n",
       "      <td>SA</td>\n",
       "      <td>16.809987</td>\n",
       "      <td>93.78</td>\n",
       "      <td>31.740000</td>\n",
       "      <td>...</td>\n",
       "      <td>68.499</td>\n",
       "      <td>35.4</td>\n",
       "      <td>1179.926834</td>\n",
       "      <td>0.908526</td>\n",
       "      <td>153591076.0</td>\n",
       "      <td>NaN</td>\n",
       "      <td>68.775</td>\n",
       "      <td>31.225</td>\n",
       "      <td>2011</td>\n",
       "      <td>BGD</td>\n",
       "    </tr>\n",
       "    <tr>\n",
       "      <th>2012</th>\n",
       "      <td>278.22</td>\n",
       "      <td>48.06</td>\n",
       "      <td>45.756559</td>\n",
       "      <td>53.8</td>\n",
       "      <td>63.896104</td>\n",
       "      <td>0.387219</td>\n",
       "      <td>SA</td>\n",
       "      <td>16.177563</td>\n",
       "      <td>94.27</td>\n",
       "      <td>31.490000</td>\n",
       "      <td>...</td>\n",
       "      <td>68.989</td>\n",
       "      <td>34.1</td>\n",
       "      <td>1191.289091</td>\n",
       "      <td>0.958356</td>\n",
       "      <td>155070101.0</td>\n",
       "      <td>NaN</td>\n",
       "      <td>68.007</td>\n",
       "      <td>31.993</td>\n",
       "      <td>2012</td>\n",
       "      <td>BGD</td>\n",
       "    </tr>\n",
       "    <tr>\n",
       "      <th>2013</th>\n",
       "      <td>273.69</td>\n",
       "      <td>48.70</td>\n",
       "      <td>36.231714</td>\n",
       "      <td>48.6</td>\n",
       "      <td>75.669007</td>\n",
       "      <td>0.974448</td>\n",
       "      <td>SA</td>\n",
       "      <td>15.493278</td>\n",
       "      <td>96.58</td>\n",
       "      <td>31.240000</td>\n",
       "      <td>...</td>\n",
       "      <td>69.487</td>\n",
       "      <td>32.7</td>\n",
       "      <td>1202.520865</td>\n",
       "      <td>0.938408</td>\n",
       "      <td>156532141.0</td>\n",
       "      <td>NaN</td>\n",
       "      <td>67.238</td>\n",
       "      <td>32.762</td>\n",
       "      <td>2013</td>\n",
       "      <td>BGD</td>\n",
       "    </tr>\n",
       "    <tr>\n",
       "      <th>2014</th>\n",
       "      <td>272.78</td>\n",
       "      <td>49.29</td>\n",
       "      <td>2.619036</td>\n",
       "      <td>48.1</td>\n",
       "      <td>81.344598</td>\n",
       "      <td>1.958140</td>\n",
       "      <td>SA</td>\n",
       "      <td>15.351621</td>\n",
       "      <td>98.76</td>\n",
       "      <td>30.990000</td>\n",
       "      <td>...</td>\n",
       "      <td>70.016</td>\n",
       "      <td>31.4</td>\n",
       "      <td>1213.527917</td>\n",
       "      <td>0.911168</td>\n",
       "      <td>157964929.0</td>\n",
       "      <td>NaN</td>\n",
       "      <td>66.465</td>\n",
       "      <td>33.535</td>\n",
       "      <td>2014</td>\n",
       "      <td>BGD</td>\n",
       "    </tr>\n",
       "    <tr>\n",
       "      <th>2015</th>\n",
       "      <td>278.61</td>\n",
       "      <td>50.07</td>\n",
       "      <td>2.833060</td>\n",
       "      <td>63.8</td>\n",
       "      <td>83.238753</td>\n",
       "      <td>3.069920</td>\n",
       "      <td>SA</td>\n",
       "      <td>14.782996</td>\n",
       "      <td>100.69</td>\n",
       "      <td>37.343333</td>\n",
       "      <td>...</td>\n",
       "      <td>70.543</td>\n",
       "      <td>30.0</td>\n",
       "      <td>1224.423285</td>\n",
       "      <td>0.893819</td>\n",
       "      <td>159383179.0</td>\n",
       "      <td>NaN</td>\n",
       "      <td>65.692</td>\n",
       "      <td>34.308</td>\n",
       "      <td>2015</td>\n",
       "      <td>BGD</td>\n",
       "    </tr>\n",
       "  </tbody>\n",
       "</table>\n",
       "<p>5 rows × 129 columns</p>\n",
       "</div>"
      ],
      "text/plain": [
       "           Food supply quantity (kg/capita/yr)_Cereals - Excluding Beer  \\\n",
       "code year                                                                 \n",
       "BGD  2011                                             278.27              \n",
       "     2012                                             278.22              \n",
       "     2013                                             273.69              \n",
       "     2014                                             272.78              \n",
       "     2015                                             278.61              \n",
       "\n",
       "           Food supply quantity (kg/capita/yr)_Starchy Roots  rolling_std  \\\n",
       "code year                                                                   \n",
       "BGD  2011                                              47.40    46.219922   \n",
       "     2012                                              48.06    45.756559   \n",
       "     2013                                              48.70    36.231714   \n",
       "     2014                                              49.29     2.619036   \n",
       "     2015                                              50.07     2.833060   \n",
       "\n",
       "           Rural Access to Electricity(Percent of Population)  \\\n",
       "code year                                                       \n",
       "BGD  2011                                               45.7    \n",
       "     2012                                               53.8    \n",
       "     2013                                               48.6    \n",
       "     2014                                               48.1    \n",
       "     2015                                               63.8    \n",
       "\n",
       "           Mobile Cellular Subscriptions (per 100 people)  \\\n",
       "code year                                                   \n",
       "BGD  2011                                       56.166790   \n",
       "     2012                                       63.896104   \n",
       "     2013                                       75.669007   \n",
       "     2014                                       81.344598   \n",
       "     2015                                       83.238753   \n",
       "\n",
       "           Fixed Broadband Subsciptions (per 100 people) region  \\\n",
       "code year                                                         \n",
       "BGD  2011                                       0.305031     SA   \n",
       "     2012                                       0.387219     SA   \n",
       "     2013                                       0.974448     SA   \n",
       "     2014                                       1.958140     SA   \n",
       "     2015                                       3.069920     SA   \n",
       "\n",
       "           Agriculture, forestry, and fishing, value added (percent of GDP)  \\\n",
       "code year                                                                     \n",
       "BGD  2011                                          16.809987                  \n",
       "     2012                                          16.177563                  \n",
       "     2013                                          15.493278                  \n",
       "     2014                                          15.351621                  \n",
       "     2015                                          14.782996                  \n",
       "\n",
       "           Crop production index (2014-2016 = 100)  Account (% age 15+)  ...  \\\n",
       "code year                                                                ...   \n",
       "BGD  2011                                    93.78            31.740000  ...   \n",
       "     2012                                    94.27            31.490000  ...   \n",
       "     2013                                    96.58            31.240000  ...   \n",
       "     2014                                    98.76            30.990000  ...   \n",
       "     2015                                   100.69            37.343333  ...   \n",
       "\n",
       "           Life expectancy at birth, total (years)  \\\n",
       "code year                                            \n",
       "BGD  2011                                   68.499   \n",
       "     2012                                   68.989   \n",
       "     2013                                   69.487   \n",
       "     2014                                   70.016   \n",
       "     2015                                   70.543   \n",
       "\n",
       "           Mortality rate, infant (per 1,000 live births)  \\\n",
       "code year                                                   \n",
       "BGD  2011                                            35.4   \n",
       "     2012                                            34.1   \n",
       "     2013                                            32.7   \n",
       "     2014                                            31.4   \n",
       "     2015                                            30.0   \n",
       "\n",
       "           Population density (people per sq. km of land area)  \\\n",
       "code year                                                        \n",
       "BGD  2011                                        1179.926834     \n",
       "     2012                                        1191.289091     \n",
       "     2013                                        1202.520865     \n",
       "     2014                                        1213.527917     \n",
       "     2015                                        1224.423285     \n",
       "\n",
       "           Population growth (annual %)  Population, total  \\\n",
       "code year                                                    \n",
       "BGD  2011                      0.908526        153591076.0   \n",
       "     2012                      0.958356        155070101.0   \n",
       "     2013                      0.938408        156532141.0   \n",
       "     2014                      0.911168        157964929.0   \n",
       "     2015                      0.893819        159383179.0   \n",
       "\n",
       "           Poverty headcount ratio at national poverty lines (% of population)  \\\n",
       "code year                                                                        \n",
       "BGD  2011                                                NaN                     \n",
       "     2012                                                NaN                     \n",
       "     2013                                                NaN                     \n",
       "     2014                                                NaN                     \n",
       "     2015                                                NaN                     \n",
       "\n",
       "           Rural population (% of total population)  \\\n",
       "code year                                             \n",
       "BGD  2011                                    68.775   \n",
       "     2012                                    68.007   \n",
       "     2013                                    67.238   \n",
       "     2014                                    66.465   \n",
       "     2015                                    65.692   \n",
       "\n",
       "           Urban population (% of total population)  year  code  \n",
       "code year                                                        \n",
       "BGD  2011                                    31.225  2011   BGD  \n",
       "     2012                                    31.993  2012   BGD  \n",
       "     2013                                    32.762  2013   BGD  \n",
       "     2014                                    33.535  2014   BGD  \n",
       "     2015                                    34.308  2015   BGD  \n",
       "\n",
       "[5 rows x 129 columns]"
      ]
     },
     "execution_count": 41,
     "metadata": {},
     "output_type": "execute_result"
    }
   ],
   "source": [
    "df_for_interactive = df\n",
    "df_for_interactive['code'] = df_for_interactive.index.get_level_values(0)\n",
    "df_for_interactive['year'] = df_for_interactive.index.get_level_values(1)\n",
    "df_for_interactive.head()"
   ]
  },
  {
   "cell_type": "code",
   "execution_count": null,
   "id": "ec7a1e97",
   "metadata": {},
   "outputs": [
    {
     "data": {
      "application/vnd.plotly.v1+json": {
       "config": {
        "plotlyServerURL": "https://plot.ly"
       },
       "data": [
        {
         "hovertemplate": "code=BGD<br>year=%{x}<br>Account (% age 15+)=%{y}<extra></extra>",
         "legendgroup": "BGD",
         "line": {
          "color": "#636efa",
          "dash": "solid"
         },
         "marker": {
          "symbol": "circle"
         },
         "mode": "lines",
         "name": "BGD",
         "orientation": "v",
         "showlegend": true,
         "type": "scatter",
         "x": {
          "bdata": "2wfcB90H3gffB+AH4QfiB+MH5AflB+YH",
          "dtype": "i2"
         },
         "xaxis": "x",
         "y": {
          "bdata": "PQrXo3C9P0A9CtejcH0/QD0K16NwPT9APQrXo3D9PkCLJb9Y8qtCQPnFkl8s2UVAZmZmZmYGSUAfhetRuF5JQNejcD0Kt0lAkML1KFwPSkBI4XoUrmdKQEjhehSuZ0pA",
          "dtype": "f8"
         },
         "yaxis": "y"
        },
        {
         "hovertemplate": "code=BTN<br>year=%{x}<br>Account (% age 15+)=%{y}<extra></extra>",
         "legendgroup": "BTN",
         "line": {
          "color": "#EF553B",
          "dash": "solid"
         },
         "marker": {
          "symbol": "circle"
         },
         "mode": "lines",
         "name": "BTN",
         "orientation": "v",
         "showlegend": true,
         "type": "scatter",
         "x": {
          "bdata": "4wfkB+UH5gc=",
          "dtype": "i2"
         },
         "xaxis": "x",
         "y": {
          "bdata": "9ihcj8LVQED2KFyPwtVAQPYoXI/C1UBA9ihcj8LVQEA=",
          "dtype": "f8"
         },
         "yaxis": "y"
        },
        {
         "hovertemplate": "code=KHM<br>year=%{x}<br>Account (% age 15+)=%{y}<extra></extra>",
         "legendgroup": "KHM",
         "line": {
          "color": "#00cc96",
          "dash": "solid"
         },
         "marker": {
          "symbol": "circle"
         },
         "mode": "lines",
         "name": "KHM",
         "orientation": "v",
         "showlegend": true,
         "type": "scatter",
         "x": {
          "bdata": "2wfcB90H3gffB+AH4QfiB+MH5AflB+YH",
          "dtype": "i2"
         },
         "xaxis": "x",
         "y": {
          "bdata": "SOF6FK5HDUAqXI/C9agjQAAAAAAAADBA7FG4HoUrNkBApw102gA2QJf8Yskv1jVA7FG4HoWrNUCamZmZmZk4QEjhehSuhztA9ihcj8J1PkBSuB6F67FAQFK4HoXrsUBA",
          "dtype": "f8"
         },
         "yaxis": "y"
        },
        {
         "hovertemplate": "code=IND<br>year=%{x}<br>Account (% age 15+)=%{y}<extra></extra>",
         "legendgroup": "IND",
         "line": {
          "color": "#ab63fa",
          "dash": "solid"
         },
         "marker": {
          "symbol": "circle"
         },
         "mode": "lines",
         "name": "IND",
         "orientation": "v",
         "showlegend": true,
         "type": "scatter",
         "x": {
          "bdata": "2wfcB90H3gffB+AH4QfiB+MH5AflB+YH",
          "dtype": "i2"
         },
         "xaxis": "x",
         "y": {
          "bdata": "PQrXo3CdQUCamZmZmZlEQPYoXI/ClUdAUrgeheuRSkAHOm2g0wZPQN7d3d3dvVFAuB6F61H4U0AehetRuNJTQIXrUbgerVNA7FG4HoWHU0BSuB6F62FTQFK4HoXrYVNA",
          "dtype": "f8"
         },
         "yaxis": "y"
        },
        {
         "hovertemplate": "code=IDN<br>year=%{x}<br>Account (% age 15+)=%{y}<extra></extra>",
         "legendgroup": "IDN",
         "line": {
          "color": "#FFA15A",
          "dash": "solid"
         },
         "marker": {
          "symbol": "circle"
         },
         "mode": "lines",
         "name": "IDN",
         "orientation": "v",
         "showlegend": true,
         "type": "scatter",
         "x": {
          "bdata": "2wfcB90H3gffB+AH4QfiB+MH5AflB+YH",
          "dtype": "i2"
         },
         "xaxis": "x",
         "y": {
          "bdata": "FK5H4XqUM0CSXyz5xRI5QBIRERERkT5ASOF6FK4HQkBqA5020ClEQIslv1jyS0ZArkfhehRuSEB7FK5H4cpIQEjhehSuJ0lAFK5H4XqESUDhehSuR+FJQOF6FK5H4UlA",
          "dtype": "f8"
         },
         "yaxis": "y"
        },
        {
         "hovertemplate": "code=LAO<br>year=%{x}<br>Account (% age 15+)=%{y}<extra></extra>",
         "legendgroup": "LAO",
         "line": {
          "color": "#19d3f3",
          "dash": "solid"
         },
         "marker": {
          "symbol": "circle"
         },
         "mode": "lines",
         "name": "LAO",
         "orientation": "v",
         "showlegend": true,
         "type": "scatter",
         "x": {
          "bdata": "2wfcB90H3gffB+AH4QfiB+MH5AflB+YH",
          "dtype": "i2"
         },
         "xaxis": "x",
         "y": {
          "bdata": "hetRuB7FOkAHOm2g0yY7QIiIiIiIiDtACtejcD3qO0CMJb9Y8ks8QA102kCnrTxAj8L1KFwPPUAAAAAAACA/QLgehetRmEBAcT0K16OgQUApXI/C9ahCQClcj8L1qEJA",
          "dtype": "f8"
         },
         "yaxis": "y"
        },
        {
         "hovertemplate": "code=MYS<br>year=%{x}<br>Account (% age 15+)=%{y}<extra></extra>",
         "legendgroup": "MYS",
         "line": {
          "color": "#FF6692",
          "dash": "solid"
         },
         "marker": {
          "symbol": "circle"
         },
         "mode": "lines",
         "name": "MYS",
         "orientation": "v",
         "showlegend": true,
         "type": "scatter",
         "x": {
          "bdata": "2wfcB90H3gffB+AH4QfiB+MH5AflB+YH",
          "dtype": "i2"
         },
         "xaxis": "x",
         "y": {
          "bdata": "exSuR+GKUEDQaQOdNsBRQCa/WPKL9VJAexSuR+EqVEBPG+i0gY5UQCIiIiIi8lRA9ihcj8JVVUAK16NwPYZVQB+F61G4tlVANDMzMzPnVUBI4XoUrhdWQEjhehSuF1ZA",
          "dtype": "f8"
         },
         "yaxis": "y"
        },
        {
         "hovertemplate": "code=MMR<br>year=%{x}<br>Account (% age 15+)=%{y}<extra></extra>",
         "legendgroup": "MMR",
         "line": {
          "color": "#B6E880",
          "dash": "solid"
         },
         "marker": {
          "symbol": "circle"
         },
         "mode": "lines",
         "name": "MMR",
         "orientation": "v",
         "showlegend": true,
         "type": "scatter",
         "x": {
          "bdata": "2wfcB90H3gffB+AH4QfiB+MH5AflB+YH",
          "dtype": "i2"
         },
         "xaxis": "x",
         "y": {
          "bdata": "SOF6FK7HNkBI4XoUrsc2QEjhehSuxzZASOF6FK7HNkCamZmZmdk3QOxRuB6F6zhAPQrXo3D9OUBxPQrXo3A/QFK4HoXrcUJA7FG4HoUrRUCF61G4HuVHQIXrUbge5UdA",
          "dtype": "f8"
         },
         "yaxis": "y"
        },
        {
         "hovertemplate": "code=NPL<br>year=%{x}<br>Account (% age 15+)=%{y}<extra></extra>",
         "legendgroup": "NPL",
         "line": {
          "color": "#FF97FF",
          "dash": "solid"
         },
         "marker": {
          "symbol": "circle"
         },
         "mode": "lines",
         "name": "NPL",
         "orientation": "v",
         "showlegend": true,
         "type": "scatter",
         "x": {
          "bdata": "2wfcB90H3gffB+AH4QfiB+MH5AflB+YH",
          "dtype": "i2"
         },
         "xaxis": "x",
         "y": {
          "bdata": "j8L1KFxPOUCkcD0K1yM8QLgehetR+D5AZmZmZmbmQEC0gU4b6NRCQAKdNtBpw0RAUrgeheuxRkA9CtejcMVHQClcj8L12EhAFK5H4XrsSUAAAAAAAABLQAAAAAAAAEtA",
          "dtype": "f8"
         },
         "yaxis": "y"
        },
        {
         "hovertemplate": "code=PAK<br>year=%{x}<br>Account (% age 15+)=%{y}<extra></extra>",
         "legendgroup": "PAK",
         "line": {
          "color": "#FECB52",
          "dash": "solid"
         },
         "marker": {
          "symbol": "circle"
         },
         "mode": "lines",
         "name": "PAK",
         "orientation": "v",
         "showlegend": true,
         "type": "scatter",
         "x": {
          "bdata": "2wfcB90H3gffB+AH4QfiB+MH5AflB+YH",
          "dtype": "i2"
         },
         "xaxis": "x",
         "y": {
          "bdata": "H4XrUbieJEBxPQrXo3AmQMP1KFyPQihAFK5H4XoUKkAUrkfhepQvQArXo3A9ijJACtejcD1KNUBmZmZmZjY1QMP1KFyPIjVAH4XrUbgONUB7FK5H4fo0QHsUrkfh+jRA",
          "dtype": "f8"
         },
         "yaxis": "y"
        },
        {
         "hovertemplate": "code=PHL<br>year=%{x}<br>Account (% age 15+)=%{y}<extra></extra>",
         "legendgroup": "PHL",
         "line": {
          "color": "#636efa",
          "dash": "solid"
         },
         "marker": {
          "symbol": "circle"
         },
         "mode": "lines",
         "name": "PHL",
         "orientation": "v",
         "showlegend": true,
         "type": "scatter",
         "x": {
          "bdata": "2wfcB90H3gffB+AH4QfiB+MH5AflB+YH",
          "dtype": "i2"
         },
         "xaxis": "x",
         "y": {
          "bdata": "j8L1KFyPOkBjyS+W/CI8QDbQaQOdtj1ACtejcD1KP0CuR+F6FC5AQNejcD0Kt0BAAAAAAABAQUCkcD0K11tDQEjhehSud0VA7FG4HoWTR0CPwvUoXK9JQI/C9Shcr0lA",
          "dtype": "f8"
         },
         "yaxis": "y"
        },
        {
         "hovertemplate": "code=LKA<br>year=%{x}<br>Account (% age 15+)=%{y}<extra></extra>",
         "legendgroup": "LKA",
         "line": {
          "color": "#EF553B",
          "dash": "solid"
         },
         "marker": {
          "symbol": "circle"
         },
         "mode": "lines",
         "name": "LKA",
         "orientation": "v",
         "showlegend": true,
         "type": "scatter",
         "x": {
          "bdata": "2wfcB90H3gffB+AH4QfiB+MH5AflB+YH",
          "dtype": "i2"
         },
         "xaxis": "x",
         "y": {
          "bdata": "UrgeheshUUAAAAAAAFBSQK5H4XoUflNAXI/C9SisVEAb6LSBTutTQNtApw10KlNAmpmZmZlpUkDsUbgehWNTQD4K16NwXVRAj8L1KFxXVUDhehSuR1FWQOF6FK5HUVZA",
          "dtype": "f8"
         },
         "yaxis": "y"
        },
        {
         "hovertemplate": "code=THA<br>year=%{x}<br>Account (% age 15+)=%{y}<extra></extra>",
         "legendgroup": "THA",
         "line": {
          "color": "#00cc96",
          "dash": "solid"
         },
         "marker": {
          "symbol": "circle"
         },
         "mode": "lines",
         "name": "THA",
         "orientation": "v",
         "showlegend": true,
         "type": "scatter",
         "x": {
          "bdata": "2wfcB90H3gffB+AH4QfiB+MH5AflB+YH",
          "dtype": "i2"
         },
         "xaxis": "x",
         "y": {
          "bdata": "exSuR+EqUkBgLPnFkp9SQEREREREFFNAKVyPwvWIU0DD9Shcj9JTQFyPwvUoHFRA9ihcj8JlVECamZmZmUVVQD4K16NwJVZA4XoUrkcFV0CF61G4HuVXQIXrUbge5VdA",
          "dtype": "f8"
         },
         "yaxis": "y"
        },
        {
         "hovertemplate": "code=VNM<br>year=%{x}<br>Account (% age 15+)=%{y}<extra></extra>",
         "legendgroup": "VNM",
         "line": {
          "color": "#ab63fa",
          "dash": "solid"
         },
         "marker": {
          "symbol": "circle"
         },
         "mode": "lines",
         "name": "VNM",
         "orientation": "v",
         "showlegend": true,
         "type": "scatter",
         "x": {
          "bdata": "2wfcB90H3gffB+AH4QfiB+MH5AflB+YH",
          "dtype": "i2"
         },
         "xaxis": "x",
         "y": {
          "bdata": "H4XrUbheNUDQaQOdNpA4QIJOG+i0wTtAMzMzMzPzPkBmZmZmZuY+QJqZmZmZ2T5AzczMzMzMPkDfT42XbvJBQFg5tMh2fkRA0SLb+X4KR0BKDAIrh5ZJQMP1KFyPIkxA",
          "dtype": "f8"
         },
         "yaxis": "y"
        }
       ],
       "layout": {
        "legend": {
         "title": {
          "text": "code"
         },
         "tracegroupgap": 0
        },
        "template": {
         "data": {
          "bar": [
           {
            "error_x": {
             "color": "#2a3f5f"
            },
            "error_y": {
             "color": "#2a3f5f"
            },
            "marker": {
             "line": {
              "color": "#E5ECF6",
              "width": 0.5
             },
             "pattern": {
              "fillmode": "overlay",
              "size": 10,
              "solidity": 0.2
             }
            },
            "type": "bar"
           }
          ],
          "barpolar": [
           {
            "marker": {
             "line": {
              "color": "#E5ECF6",
              "width": 0.5
             },
             "pattern": {
              "fillmode": "overlay",
              "size": 10,
              "solidity": 0.2
             }
            },
            "type": "barpolar"
           }
          ],
          "carpet": [
           {
            "aaxis": {
             "endlinecolor": "#2a3f5f",
             "gridcolor": "white",
             "linecolor": "white",
             "minorgridcolor": "white",
             "startlinecolor": "#2a3f5f"
            },
            "baxis": {
             "endlinecolor": "#2a3f5f",
             "gridcolor": "white",
             "linecolor": "white",
             "minorgridcolor": "white",
             "startlinecolor": "#2a3f5f"
            },
            "type": "carpet"
           }
          ],
          "choropleth": [
           {
            "colorbar": {
             "outlinewidth": 0,
             "ticks": ""
            },
            "type": "choropleth"
           }
          ],
          "contour": [
           {
            "colorbar": {
             "outlinewidth": 0,
             "ticks": ""
            },
            "colorscale": [
             [
              0,
              "#0d0887"
             ],
             [
              0.1111111111111111,
              "#46039f"
             ],
             [
              0.2222222222222222,
              "#7201a8"
             ],
             [
              0.3333333333333333,
              "#9c179e"
             ],
             [
              0.4444444444444444,
              "#bd3786"
             ],
             [
              0.5555555555555556,
              "#d8576b"
             ],
             [
              0.6666666666666666,
              "#ed7953"
             ],
             [
              0.7777777777777778,
              "#fb9f3a"
             ],
             [
              0.8888888888888888,
              "#fdca26"
             ],
             [
              1,
              "#f0f921"
             ]
            ],
            "type": "contour"
           }
          ],
          "contourcarpet": [
           {
            "colorbar": {
             "outlinewidth": 0,
             "ticks": ""
            },
            "type": "contourcarpet"
           }
          ],
          "heatmap": [
           {
            "colorbar": {
             "outlinewidth": 0,
             "ticks": ""
            },
            "colorscale": [
             [
              0,
              "#0d0887"
             ],
             [
              0.1111111111111111,
              "#46039f"
             ],
             [
              0.2222222222222222,
              "#7201a8"
             ],
             [
              0.3333333333333333,
              "#9c179e"
             ],
             [
              0.4444444444444444,
              "#bd3786"
             ],
             [
              0.5555555555555556,
              "#d8576b"
             ],
             [
              0.6666666666666666,
              "#ed7953"
             ],
             [
              0.7777777777777778,
              "#fb9f3a"
             ],
             [
              0.8888888888888888,
              "#fdca26"
             ],
             [
              1,
              "#f0f921"
             ]
            ],
            "type": "heatmap"
           }
          ],
          "histogram": [
           {
            "marker": {
             "pattern": {
              "fillmode": "overlay",
              "size": 10,
              "solidity": 0.2
             }
            },
            "type": "histogram"
           }
          ],
          "histogram2d": [
           {
            "colorbar": {
             "outlinewidth": 0,
             "ticks": ""
            },
            "colorscale": [
             [
              0,
              "#0d0887"
             ],
             [
              0.1111111111111111,
              "#46039f"
             ],
             [
              0.2222222222222222,
              "#7201a8"
             ],
             [
              0.3333333333333333,
              "#9c179e"
             ],
             [
              0.4444444444444444,
              "#bd3786"
             ],
             [
              0.5555555555555556,
              "#d8576b"
             ],
             [
              0.6666666666666666,
              "#ed7953"
             ],
             [
              0.7777777777777778,
              "#fb9f3a"
             ],
             [
              0.8888888888888888,
              "#fdca26"
             ],
             [
              1,
              "#f0f921"
             ]
            ],
            "type": "histogram2d"
           }
          ],
          "histogram2dcontour": [
           {
            "colorbar": {
             "outlinewidth": 0,
             "ticks": ""
            },
            "colorscale": [
             [
              0,
              "#0d0887"
             ],
             [
              0.1111111111111111,
              "#46039f"
             ],
             [
              0.2222222222222222,
              "#7201a8"
             ],
             [
              0.3333333333333333,
              "#9c179e"
             ],
             [
              0.4444444444444444,
              "#bd3786"
             ],
             [
              0.5555555555555556,
              "#d8576b"
             ],
             [
              0.6666666666666666,
              "#ed7953"
             ],
             [
              0.7777777777777778,
              "#fb9f3a"
             ],
             [
              0.8888888888888888,
              "#fdca26"
             ],
             [
              1,
              "#f0f921"
             ]
            ],
            "type": "histogram2dcontour"
           }
          ],
          "mesh3d": [
           {
            "colorbar": {
             "outlinewidth": 0,
             "ticks": ""
            },
            "type": "mesh3d"
           }
          ],
          "parcoords": [
           {
            "line": {
             "colorbar": {
              "outlinewidth": 0,
              "ticks": ""
             }
            },
            "type": "parcoords"
           }
          ],
          "pie": [
           {
            "automargin": true,
            "type": "pie"
           }
          ],
          "scatter": [
           {
            "fillpattern": {
             "fillmode": "overlay",
             "size": 10,
             "solidity": 0.2
            },
            "type": "scatter"
           }
          ],
          "scatter3d": [
           {
            "line": {
             "colorbar": {
              "outlinewidth": 0,
              "ticks": ""
             }
            },
            "marker": {
             "colorbar": {
              "outlinewidth": 0,
              "ticks": ""
             }
            },
            "type": "scatter3d"
           }
          ],
          "scattercarpet": [
           {
            "marker": {
             "colorbar": {
              "outlinewidth": 0,
              "ticks": ""
             }
            },
            "type": "scattercarpet"
           }
          ],
          "scattergeo": [
           {
            "marker": {
             "colorbar": {
              "outlinewidth": 0,
              "ticks": ""
             }
            },
            "type": "scattergeo"
           }
          ],
          "scattergl": [
           {
            "marker": {
             "colorbar": {
              "outlinewidth": 0,
              "ticks": ""
             }
            },
            "type": "scattergl"
           }
          ],
          "scattermap": [
           {
            "marker": {
             "colorbar": {
              "outlinewidth": 0,
              "ticks": ""
             }
            },
            "type": "scattermap"
           }
          ],
          "scattermapbox": [
           {
            "marker": {
             "colorbar": {
              "outlinewidth": 0,
              "ticks": ""
             }
            },
            "type": "scattermapbox"
           }
          ],
          "scatterpolar": [
           {
            "marker": {
             "colorbar": {
              "outlinewidth": 0,
              "ticks": ""
             }
            },
            "type": "scatterpolar"
           }
          ],
          "scatterpolargl": [
           {
            "marker": {
             "colorbar": {
              "outlinewidth": 0,
              "ticks": ""
             }
            },
            "type": "scatterpolargl"
           }
          ],
          "scatterternary": [
           {
            "marker": {
             "colorbar": {
              "outlinewidth": 0,
              "ticks": ""
             }
            },
            "type": "scatterternary"
           }
          ],
          "surface": [
           {
            "colorbar": {
             "outlinewidth": 0,
             "ticks": ""
            },
            "colorscale": [
             [
              0,
              "#0d0887"
             ],
             [
              0.1111111111111111,
              "#46039f"
             ],
             [
              0.2222222222222222,
              "#7201a8"
             ],
             [
              0.3333333333333333,
              "#9c179e"
             ],
             [
              0.4444444444444444,
              "#bd3786"
             ],
             [
              0.5555555555555556,
              "#d8576b"
             ],
             [
              0.6666666666666666,
              "#ed7953"
             ],
             [
              0.7777777777777778,
              "#fb9f3a"
             ],
             [
              0.8888888888888888,
              "#fdca26"
             ],
             [
              1,
              "#f0f921"
             ]
            ],
            "type": "surface"
           }
          ],
          "table": [
           {
            "cells": {
             "fill": {
              "color": "#EBF0F8"
             },
             "line": {
              "color": "white"
             }
            },
            "header": {
             "fill": {
              "color": "#C8D4E3"
             },
             "line": {
              "color": "white"
             }
            },
            "type": "table"
           }
          ]
         },
         "layout": {
          "annotationdefaults": {
           "arrowcolor": "#2a3f5f",
           "arrowhead": 0,
           "arrowwidth": 1
          },
          "autotypenumbers": "strict",
          "coloraxis": {
           "colorbar": {
            "outlinewidth": 0,
            "ticks": ""
           }
          },
          "colorscale": {
           "diverging": [
            [
             0,
             "#8e0152"
            ],
            [
             0.1,
             "#c51b7d"
            ],
            [
             0.2,
             "#de77ae"
            ],
            [
             0.3,
             "#f1b6da"
            ],
            [
             0.4,
             "#fde0ef"
            ],
            [
             0.5,
             "#f7f7f7"
            ],
            [
             0.6,
             "#e6f5d0"
            ],
            [
             0.7,
             "#b8e186"
            ],
            [
             0.8,
             "#7fbc41"
            ],
            [
             0.9,
             "#4d9221"
            ],
            [
             1,
             "#276419"
            ]
           ],
           "sequential": [
            [
             0,
             "#0d0887"
            ],
            [
             0.1111111111111111,
             "#46039f"
            ],
            [
             0.2222222222222222,
             "#7201a8"
            ],
            [
             0.3333333333333333,
             "#9c179e"
            ],
            [
             0.4444444444444444,
             "#bd3786"
            ],
            [
             0.5555555555555556,
             "#d8576b"
            ],
            [
             0.6666666666666666,
             "#ed7953"
            ],
            [
             0.7777777777777778,
             "#fb9f3a"
            ],
            [
             0.8888888888888888,
             "#fdca26"
            ],
            [
             1,
             "#f0f921"
            ]
           ],
           "sequentialminus": [
            [
             0,
             "#0d0887"
            ],
            [
             0.1111111111111111,
             "#46039f"
            ],
            [
             0.2222222222222222,
             "#7201a8"
            ],
            [
             0.3333333333333333,
             "#9c179e"
            ],
            [
             0.4444444444444444,
             "#bd3786"
            ],
            [
             0.5555555555555556,
             "#d8576b"
            ],
            [
             0.6666666666666666,
             "#ed7953"
            ],
            [
             0.7777777777777778,
             "#fb9f3a"
            ],
            [
             0.8888888888888888,
             "#fdca26"
            ],
            [
             1,
             "#f0f921"
            ]
           ]
          },
          "colorway": [
           "#636efa",
           "#EF553B",
           "#00cc96",
           "#ab63fa",
           "#FFA15A",
           "#19d3f3",
           "#FF6692",
           "#B6E880",
           "#FF97FF",
           "#FECB52"
          ],
          "font": {
           "color": "#2a3f5f"
          },
          "geo": {
           "bgcolor": "white",
           "lakecolor": "white",
           "landcolor": "#E5ECF6",
           "showlakes": true,
           "showland": true,
           "subunitcolor": "white"
          },
          "hoverlabel": {
           "align": "left"
          },
          "hovermode": "closest",
          "mapbox": {
           "style": "light"
          },
          "paper_bgcolor": "white",
          "plot_bgcolor": "#E5ECF6",
          "polar": {
           "angularaxis": {
            "gridcolor": "white",
            "linecolor": "white",
            "ticks": ""
           },
           "bgcolor": "#E5ECF6",
           "radialaxis": {
            "gridcolor": "white",
            "linecolor": "white",
            "ticks": ""
           }
          },
          "scene": {
           "xaxis": {
            "backgroundcolor": "#E5ECF6",
            "gridcolor": "white",
            "gridwidth": 2,
            "linecolor": "white",
            "showbackground": true,
            "ticks": "",
            "zerolinecolor": "white"
           },
           "yaxis": {
            "backgroundcolor": "#E5ECF6",
            "gridcolor": "white",
            "gridwidth": 2,
            "linecolor": "white",
            "showbackground": true,
            "ticks": "",
            "zerolinecolor": "white"
           },
           "zaxis": {
            "backgroundcolor": "#E5ECF6",
            "gridcolor": "white",
            "gridwidth": 2,
            "linecolor": "white",
            "showbackground": true,
            "ticks": "",
            "zerolinecolor": "white"
           }
          },
          "shapedefaults": {
           "line": {
            "color": "#2a3f5f"
           }
          },
          "ternary": {
           "aaxis": {
            "gridcolor": "white",
            "linecolor": "white",
            "ticks": ""
           },
           "baxis": {
            "gridcolor": "white",
            "linecolor": "white",
            "ticks": ""
           },
           "bgcolor": "#E5ECF6",
           "caxis": {
            "gridcolor": "white",
            "linecolor": "white",
            "ticks": ""
           }
          },
          "title": {
           "x": 0.05
          },
          "xaxis": {
           "automargin": true,
           "gridcolor": "white",
           "linecolor": "white",
           "ticks": "",
           "title": {
            "standoff": 15
           },
           "zerolinecolor": "white",
           "zerolinewidth": 2
          },
          "yaxis": {
           "automargin": true,
           "gridcolor": "white",
           "linecolor": "white",
           "ticks": "",
           "title": {
            "standoff": 15
           },
           "zerolinecolor": "white",
           "zerolinewidth": 2
          }
         }
        },
        "title": {
         "text": "% of Pop. Age 15+ with a Financial Services Account"
        },
        "xaxis": {
         "anchor": "y",
         "domain": [
          0,
          1
         ],
         "title": {
          "text": "year"
         }
        },
        "yaxis": {
         "anchor": "x",
         "domain": [
          0,
          1
         ],
         "title": {
          "text": "Account (% age 15+)"
         }
        }
       }
      }
     },
     "metadata": {},
     "output_type": "display_data"
    }
   ],
   "source": [
    "#interactive\n",
    "px.line(\n",
    "    df_for_interactive,\n",
    "    x = 'year',\n",
    "    y = 'Account (% age 15+)',\n",
    "    color = 'code',\n",
    "    title='% of Pop. Age 15+ with a Financial Services Account'\n",
    ")"
   ]
  },
  {
   "cell_type": "code",
   "execution_count": 43,
   "id": "ab380de0",
   "metadata": {},
   "outputs": [
    {
     "data": {
      "application/vnd.plotly.v1+json": {
       "config": {
        "plotlyServerURL": "https://plot.ly"
       },
       "data": [
        {
         "hovertemplate": "code=BGD<br>year=%{x}<br>Crop production index (2014-2016 = 100)=%{y}<extra></extra>",
         "legendgroup": "BGD",
         "line": {
          "color": "#636efa",
          "dash": "solid"
         },
         "marker": {
          "symbol": "circle"
         },
         "mode": "lines",
         "name": "BGD",
         "orientation": "v",
         "showlegend": true,
         "type": "scatter",
         "x": {
          "bdata": "2wfcB90H3gffB+AH4QfiB+MH5AflB+YH",
          "dtype": "i2"
         },
         "xaxis": "x",
         "y": {
          "bdata": "UrgehetxV0DhehSuR5FXQIXrUbgeJVhAcT0K16OwWEBcj8L1KCxZQDMzMzMzI1lArkfhehQeW0AAAAAAAABbQClcj8L1eFtA9ihcj8L1W0A9CtejcB1dQGZmZmZmxl1A",
          "dtype": "f8"
         },
         "yaxis": "y"
        },
        {
         "hovertemplate": "code=BTN<br>year=%{x}<br>Crop production index (2014-2016 = 100)=%{y}<extra></extra>",
         "legendgroup": "BTN",
         "line": {
          "color": "#EF553B",
          "dash": "solid"
         },
         "marker": {
          "symbol": "circle"
         },
         "mode": "lines",
         "name": "BTN",
         "orientation": "v",
         "showlegend": true,
         "type": "scatter",
         "x": {
          "bdata": "4wfkB+UH5gc=",
          "dtype": "i2"
         },
         "xaxis": "x",
         "y": {
          "bdata": "7FG4HoWrV0ApXI/C9dhZQFyPwvUo3FZA9ihcj8IFUUA=",
          "dtype": "f8"
         },
         "yaxis": "y"
        },
        {
         "hovertemplate": "code=KHM<br>year=%{x}<br>Crop production index (2014-2016 = 100)=%{y}<extra></extra>",
         "legendgroup": "KHM",
         "line": {
          "color": "#00cc96",
          "dash": "solid"
         },
         "marker": {
          "symbol": "circle"
         },
         "mode": "lines",
         "name": "KHM",
         "orientation": "v",
         "showlegend": true,
         "type": "scatter",
         "x": {
          "bdata": "2wfcB90H3gffB+AH4QfiB+MH5AflB+YH",
          "dtype": "i2"
         },
         "xaxis": "x",
         "y": {
          "bdata": "SOF6FK6HVEApXI/C9VhVQOxRuB6Fu1VAUrgeheuxV0DNzMzMzFxYQOF6FK5H8VpAAAAAAACQW0C4HoXrUWhcQFyPwvUoPFxAZmZmZmYGXUCuR+F6FGZgQKRwPQrXS2BA",
          "dtype": "f8"
         },
         "yaxis": "y"
        },
        {
         "hovertemplate": "code=IND<br>year=%{x}<br>Crop production index (2014-2016 = 100)=%{y}<extra></extra>",
         "legendgroup": "IND",
         "line": {
          "color": "#ab63fa",
          "dash": "solid"
         },
         "marker": {
          "symbol": "circle"
         },
         "mode": "lines",
         "name": "IND",
         "orientation": "v",
         "showlegend": true,
         "type": "scatter",
         "x": {
          "bdata": "2wfcB90H3gffB+AH4QfiB+MH5AflB+YH",
          "dtype": "i2"
         },
         "xaxis": "x",
         "y": {
          "bdata": "PQrXo3CNV0C4HoXrUehXQOF6FK5HAVlAhetRuB5VWUApXI/C9WhYQFK4HoXrQVlAUrgehevRWkD2KFyPwrVbQAAAAAAAEFxAj8L1KFzvXEC4HoXrUSheQMP1KFyP0l5A",
          "dtype": "f8"
         },
         "yaxis": "y"
        },
        {
         "hovertemplate": "code=IDN<br>year=%{x}<br>Crop production index (2014-2016 = 100)=%{y}<extra></extra>",
         "legendgroup": "IDN",
         "line": {
          "color": "#FFA15A",
          "dash": "solid"
         },
         "marker": {
          "symbol": "circle"
         },
         "mode": "lines",
         "name": "IDN",
         "orientation": "v",
         "showlegend": true,
         "type": "scatter",
         "x": {
          "bdata": "2wfcB90H3gffB+AH4QfiB+MH5AflB+YH",
          "dtype": "i2"
         },
         "xaxis": "x",
         "y": {
          "bdata": "PQrXo3CdV0DhehSuR+FYQPYoXI/CFVlAzczMzMzsWEAUrkfhelRZQB+F61G4vlhAhetRuB4lW0CPwvUoXD9cQEjhehSu91pArkfhehQOW0ApXI/C9ShbQArXo3A92ltA",
          "dtype": "f8"
         },
         "yaxis": "y"
        },
        {
         "hovertemplate": "code=LAO<br>year=%{x}<br>Crop production index (2014-2016 = 100)=%{y}<extra></extra>",
         "legendgroup": "LAO",
         "line": {
          "color": "#19d3f3",
          "dash": "solid"
         },
         "marker": {
          "symbol": "circle"
         },
         "mode": "lines",
         "name": "LAO",
         "orientation": "v",
         "showlegend": true,
         "type": "scatter",
         "x": {
          "bdata": "2wfcB90H3gffB+AH4QfiB+MH5AflB+YH",
          "dtype": "i2"
         },
         "xaxis": "x",
         "y": {
          "bdata": "16NwPQonUEDsUbgehWtRQFyPwvUonFJAXI/C9SicVkDD9Shcj/JZQOF6FK5HcVpAw/UoXI9SWED2KFyPwsVYQB+F61G4rlhAzczMzMyMWUBmZmZmZiZaQJqZmZmZaVxA",
          "dtype": "f8"
         },
         "yaxis": "y"
        },
        {
         "hovertemplate": "code=MYS<br>year=%{x}<br>Crop production index (2014-2016 = 100)=%{y}<extra></extra>",
         "legendgroup": "MYS",
         "line": {
          "color": "#FF6692",
          "dash": "solid"
         },
         "marker": {
          "symbol": "circle"
         },
         "mode": "lines",
         "name": "MYS",
         "orientation": "v",
         "showlegend": true,
         "type": "scatter",
         "x": {
          "bdata": "2wfcB90H3gffB+AH4QfiB+MH5AflB+YH",
          "dtype": "i2"
         },
         "xaxis": "x",
         "y": {
          "bdata": "AAAAAADwWEDNzMzMzExZQDMzMzMzI1lAPQrXo3BNWUBcj8L1KBxaQNejcD0Kl1dAFK5H4XqkWkBSuB6F67FZQFK4HoXrwVlAj8L1KFxvWUCPwvUoXG9YQOxRuB6Fe1hA",
          "dtype": "f8"
         },
         "yaxis": "y"
        },
        {
         "hovertemplate": "code=MMR<br>year=%{x}<br>Crop production index (2014-2016 = 100)=%{y}<extra></extra>",
         "legendgroup": "MMR",
         "line": {
          "color": "#B6E880",
          "dash": "solid"
         },
         "marker": {
          "symbol": "circle"
         },
         "mode": "lines",
         "name": "MMR",
         "orientation": "v",
         "showlegend": true,
         "type": "scatter",
         "x": {
          "bdata": "2wfcB90H3gffB+AH4QfiB+MH5AflB+YH",
          "dtype": "i2"
         },
         "xaxis": "x",
         "y": {
          "bdata": "uB6F61H4WUAAAAAAABBZQD0K16Nw3VlA16NwPQr3WECamZmZmTlZQI/C9Shcz1hAFK5H4XpEWEDNzMzMzBxZQArXo3A9ilhAMzMzMzMjWECamZmZmblYQI/C9Shcj1dA",
          "dtype": "f8"
         },
         "yaxis": "y"
        },
        {
         "hovertemplate": "code=NPL<br>year=%{x}<br>Crop production index (2014-2016 = 100)=%{y}<extra></extra>",
         "legendgroup": "NPL",
         "line": {
          "color": "#FF97FF",
          "dash": "solid"
         },
         "marker": {
          "symbol": "circle"
         },
         "mode": "lines",
         "name": "NPL",
         "orientation": "v",
         "showlegend": true,
         "type": "scatter",
         "x": {
          "bdata": "2wfcB90H3gffB+AH4QfiB+MH5AflB+YH",
          "dtype": "i2"
         },
         "xaxis": "x",
         "y": {
          "bdata": "exSuR+EKV0CF61G4HqVXQB+F61G4HlhAAAAAAACAWEAUrkfhehRYQHsUrkfhalpAXI/C9Sg8WkCamZmZmQlbQFK4HoXr0VtAH4XrUbhuXEAUrkfhejRcQArXo3A9Kl1A",
          "dtype": "f8"
         },
         "yaxis": "y"
        },
        {
         "hovertemplate": "code=PAK<br>year=%{x}<br>Crop production index (2014-2016 = 100)=%{y}<extra></extra>",
         "legendgroup": "PAK",
         "line": {
          "color": "#FECB52",
          "dash": "solid"
         },
         "marker": {
          "symbol": "circle"
         },
         "mode": "lines",
         "name": "PAK",
         "orientation": "v",
         "showlegend": true,
         "type": "scatter",
         "x": {
          "bdata": "2wfcB90H3gffB+AH4QfiB+MH5AflB+YH",
          "dtype": "i2"
         },
         "xaxis": "x",
         "y": {
          "bdata": "XI/C9SisWECamZmZmalXQIXrUbgeRVlA9ihcj8KVWUBmZmZmZkZYQKRwPQrXI1lAPQrXo3BdWkAK16NwPepYQBSuR+F6FFlAKVyPwvVIWkB7FK5H4VpcQLgehetRCFpA",
          "dtype": "f8"
         },
         "yaxis": "y"
        },
        {
         "hovertemplate": "code=PHL<br>year=%{x}<br>Crop production index (2014-2016 = 100)=%{y}<extra></extra>",
         "legendgroup": "PHL",
         "line": {
          "color": "#636efa",
          "dash": "solid"
         },
         "marker": {
          "symbol": "circle"
         },
         "mode": "lines",
         "name": "PHL",
         "orientation": "v",
         "showlegend": true,
         "type": "scatter",
         "x": {
          "bdata": "2wfcB90H3gffB+AH4QfiB+MH5AflB+YH",
          "dtype": "i2"
         },
         "xaxis": "x",
         "y": {
          "bdata": "KVyPwvU4WECamZmZmRlZQMP1KFyP8lhAw/UoXI+CWUC4HoXrURhZQIXrUbgeZVhAH4XrUbjOWUAzMzMzM7NZQKRwPQrXc1lA7FG4HoW7WUDXo3A9CkdaQB+F61G4/llA",
          "dtype": "f8"
         },
         "yaxis": "y"
        },
        {
         "hovertemplate": "code=LKA<br>year=%{x}<br>Crop production index (2014-2016 = 100)=%{y}<extra></extra>",
         "legendgroup": "LKA",
         "line": {
          "color": "#EF553B",
          "dash": "solid"
         },
         "marker": {
          "symbol": "circle"
         },
         "mode": "lines",
         "name": "LKA",
         "orientation": "v",
         "showlegend": true,
         "type": "scatter",
         "x": {
          "bdata": "2wfcB90H3gffB+AH4QfiB+MH5AflB+YH",
          "dtype": "i2"
         },
         "xaxis": "x",
         "y": {
          "bdata": "KVyPwvUoWEBxPQrXo4BYQKRwPQrX41lAcT0K16NwWEBSuB6F6yFaQD0K16NwbVhAAAAAAACwVUApXI/C9YhXQGZmZmZm9ldA9ihcj8LVWkDhehSuR0FdQB+F61G47ldA",
          "dtype": "f8"
         },
         "yaxis": "y"
        },
        {
         "hovertemplate": "code=THA<br>year=%{x}<br>Crop production index (2014-2016 = 100)=%{y}<extra></extra>",
         "legendgroup": "THA",
         "line": {
          "color": "#00cc96",
          "dash": "solid"
         },
         "marker": {
          "symbol": "circle"
         },
         "mode": "lines",
         "name": "THA",
         "orientation": "v",
         "showlegend": true,
         "type": "scatter",
         "x": {
          "bdata": "2wfcB90H3gffB+AH4QfiB+MH5AflB+YH",
          "dtype": "i2"
         },
         "xaxis": "x",
         "y": {
          "bdata": "mpmZmZnJWEDhehSuR4FaQMP1KFyPQlpAuB6F61HIWUApXI/C9QhYQK5H4XoULllAXI/C9Si8WUC4HoXrUZhaQHE9CtejoFlArkfhehR+WEBmZmZmZoZZQGZmZmZmplpA",
          "dtype": "f8"
         },
         "yaxis": "y"
        },
        {
         "hovertemplate": "code=VNM<br>year=%{x}<br>Crop production index (2014-2016 = 100)=%{y}<extra></extra>",
         "legendgroup": "VNM",
         "line": {
          "color": "#ab63fa",
          "dash": "solid"
         },
         "marker": {
          "symbol": "circle"
         },
         "mode": "lines",
         "name": "VNM",
         "orientation": "v",
         "showlegend": true,
         "type": "scatter",
         "x": {
          "bdata": "2wfcB90H3gffB+AH4QfiB+MH5AflB+YH",
          "dtype": "i2"
         },
         "xaxis": "x",
         "y": {
          "bdata": "cT0K16PQVUDXo3A9CpdXQGZmZmZmFlhAmpmZmZnZWEAfhetRuD5ZQLgehetR6FhAUrgehethWUDNzMzMzCxaQFyPwvUoXFpAcT0K16OAWkCPwvUoXE9bQDMzMzMzY1tA",
          "dtype": "f8"
         },
         "yaxis": "y"
        }
       ],
       "layout": {
        "legend": {
         "title": {
          "text": "code"
         },
         "tracegroupgap": 0
        },
        "template": {
         "data": {
          "bar": [
           {
            "error_x": {
             "color": "#2a3f5f"
            },
            "error_y": {
             "color": "#2a3f5f"
            },
            "marker": {
             "line": {
              "color": "#E5ECF6",
              "width": 0.5
             },
             "pattern": {
              "fillmode": "overlay",
              "size": 10,
              "solidity": 0.2
             }
            },
            "type": "bar"
           }
          ],
          "barpolar": [
           {
            "marker": {
             "line": {
              "color": "#E5ECF6",
              "width": 0.5
             },
             "pattern": {
              "fillmode": "overlay",
              "size": 10,
              "solidity": 0.2
             }
            },
            "type": "barpolar"
           }
          ],
          "carpet": [
           {
            "aaxis": {
             "endlinecolor": "#2a3f5f",
             "gridcolor": "white",
             "linecolor": "white",
             "minorgridcolor": "white",
             "startlinecolor": "#2a3f5f"
            },
            "baxis": {
             "endlinecolor": "#2a3f5f",
             "gridcolor": "white",
             "linecolor": "white",
             "minorgridcolor": "white",
             "startlinecolor": "#2a3f5f"
            },
            "type": "carpet"
           }
          ],
          "choropleth": [
           {
            "colorbar": {
             "outlinewidth": 0,
             "ticks": ""
            },
            "type": "choropleth"
           }
          ],
          "contour": [
           {
            "colorbar": {
             "outlinewidth": 0,
             "ticks": ""
            },
            "colorscale": [
             [
              0,
              "#0d0887"
             ],
             [
              0.1111111111111111,
              "#46039f"
             ],
             [
              0.2222222222222222,
              "#7201a8"
             ],
             [
              0.3333333333333333,
              "#9c179e"
             ],
             [
              0.4444444444444444,
              "#bd3786"
             ],
             [
              0.5555555555555556,
              "#d8576b"
             ],
             [
              0.6666666666666666,
              "#ed7953"
             ],
             [
              0.7777777777777778,
              "#fb9f3a"
             ],
             [
              0.8888888888888888,
              "#fdca26"
             ],
             [
              1,
              "#f0f921"
             ]
            ],
            "type": "contour"
           }
          ],
          "contourcarpet": [
           {
            "colorbar": {
             "outlinewidth": 0,
             "ticks": ""
            },
            "type": "contourcarpet"
           }
          ],
          "heatmap": [
           {
            "colorbar": {
             "outlinewidth": 0,
             "ticks": ""
            },
            "colorscale": [
             [
              0,
              "#0d0887"
             ],
             [
              0.1111111111111111,
              "#46039f"
             ],
             [
              0.2222222222222222,
              "#7201a8"
             ],
             [
              0.3333333333333333,
              "#9c179e"
             ],
             [
              0.4444444444444444,
              "#bd3786"
             ],
             [
              0.5555555555555556,
              "#d8576b"
             ],
             [
              0.6666666666666666,
              "#ed7953"
             ],
             [
              0.7777777777777778,
              "#fb9f3a"
             ],
             [
              0.8888888888888888,
              "#fdca26"
             ],
             [
              1,
              "#f0f921"
             ]
            ],
            "type": "heatmap"
           }
          ],
          "histogram": [
           {
            "marker": {
             "pattern": {
              "fillmode": "overlay",
              "size": 10,
              "solidity": 0.2
             }
            },
            "type": "histogram"
           }
          ],
          "histogram2d": [
           {
            "colorbar": {
             "outlinewidth": 0,
             "ticks": ""
            },
            "colorscale": [
             [
              0,
              "#0d0887"
             ],
             [
              0.1111111111111111,
              "#46039f"
             ],
             [
              0.2222222222222222,
              "#7201a8"
             ],
             [
              0.3333333333333333,
              "#9c179e"
             ],
             [
              0.4444444444444444,
              "#bd3786"
             ],
             [
              0.5555555555555556,
              "#d8576b"
             ],
             [
              0.6666666666666666,
              "#ed7953"
             ],
             [
              0.7777777777777778,
              "#fb9f3a"
             ],
             [
              0.8888888888888888,
              "#fdca26"
             ],
             [
              1,
              "#f0f921"
             ]
            ],
            "type": "histogram2d"
           }
          ],
          "histogram2dcontour": [
           {
            "colorbar": {
             "outlinewidth": 0,
             "ticks": ""
            },
            "colorscale": [
             [
              0,
              "#0d0887"
             ],
             [
              0.1111111111111111,
              "#46039f"
             ],
             [
              0.2222222222222222,
              "#7201a8"
             ],
             [
              0.3333333333333333,
              "#9c179e"
             ],
             [
              0.4444444444444444,
              "#bd3786"
             ],
             [
              0.5555555555555556,
              "#d8576b"
             ],
             [
              0.6666666666666666,
              "#ed7953"
             ],
             [
              0.7777777777777778,
              "#fb9f3a"
             ],
             [
              0.8888888888888888,
              "#fdca26"
             ],
             [
              1,
              "#f0f921"
             ]
            ],
            "type": "histogram2dcontour"
           }
          ],
          "mesh3d": [
           {
            "colorbar": {
             "outlinewidth": 0,
             "ticks": ""
            },
            "type": "mesh3d"
           }
          ],
          "parcoords": [
           {
            "line": {
             "colorbar": {
              "outlinewidth": 0,
              "ticks": ""
             }
            },
            "type": "parcoords"
           }
          ],
          "pie": [
           {
            "automargin": true,
            "type": "pie"
           }
          ],
          "scatter": [
           {
            "fillpattern": {
             "fillmode": "overlay",
             "size": 10,
             "solidity": 0.2
            },
            "type": "scatter"
           }
          ],
          "scatter3d": [
           {
            "line": {
             "colorbar": {
              "outlinewidth": 0,
              "ticks": ""
             }
            },
            "marker": {
             "colorbar": {
              "outlinewidth": 0,
              "ticks": ""
             }
            },
            "type": "scatter3d"
           }
          ],
          "scattercarpet": [
           {
            "marker": {
             "colorbar": {
              "outlinewidth": 0,
              "ticks": ""
             }
            },
            "type": "scattercarpet"
           }
          ],
          "scattergeo": [
           {
            "marker": {
             "colorbar": {
              "outlinewidth": 0,
              "ticks": ""
             }
            },
            "type": "scattergeo"
           }
          ],
          "scattergl": [
           {
            "marker": {
             "colorbar": {
              "outlinewidth": 0,
              "ticks": ""
             }
            },
            "type": "scattergl"
           }
          ],
          "scattermap": [
           {
            "marker": {
             "colorbar": {
              "outlinewidth": 0,
              "ticks": ""
             }
            },
            "type": "scattermap"
           }
          ],
          "scattermapbox": [
           {
            "marker": {
             "colorbar": {
              "outlinewidth": 0,
              "ticks": ""
             }
            },
            "type": "scattermapbox"
           }
          ],
          "scatterpolar": [
           {
            "marker": {
             "colorbar": {
              "outlinewidth": 0,
              "ticks": ""
             }
            },
            "type": "scatterpolar"
           }
          ],
          "scatterpolargl": [
           {
            "marker": {
             "colorbar": {
              "outlinewidth": 0,
              "ticks": ""
             }
            },
            "type": "scatterpolargl"
           }
          ],
          "scatterternary": [
           {
            "marker": {
             "colorbar": {
              "outlinewidth": 0,
              "ticks": ""
             }
            },
            "type": "scatterternary"
           }
          ],
          "surface": [
           {
            "colorbar": {
             "outlinewidth": 0,
             "ticks": ""
            },
            "colorscale": [
             [
              0,
              "#0d0887"
             ],
             [
              0.1111111111111111,
              "#46039f"
             ],
             [
              0.2222222222222222,
              "#7201a8"
             ],
             [
              0.3333333333333333,
              "#9c179e"
             ],
             [
              0.4444444444444444,
              "#bd3786"
             ],
             [
              0.5555555555555556,
              "#d8576b"
             ],
             [
              0.6666666666666666,
              "#ed7953"
             ],
             [
              0.7777777777777778,
              "#fb9f3a"
             ],
             [
              0.8888888888888888,
              "#fdca26"
             ],
             [
              1,
              "#f0f921"
             ]
            ],
            "type": "surface"
           }
          ],
          "table": [
           {
            "cells": {
             "fill": {
              "color": "#EBF0F8"
             },
             "line": {
              "color": "white"
             }
            },
            "header": {
             "fill": {
              "color": "#C8D4E3"
             },
             "line": {
              "color": "white"
             }
            },
            "type": "table"
           }
          ]
         },
         "layout": {
          "annotationdefaults": {
           "arrowcolor": "#2a3f5f",
           "arrowhead": 0,
           "arrowwidth": 1
          },
          "autotypenumbers": "strict",
          "coloraxis": {
           "colorbar": {
            "outlinewidth": 0,
            "ticks": ""
           }
          },
          "colorscale": {
           "diverging": [
            [
             0,
             "#8e0152"
            ],
            [
             0.1,
             "#c51b7d"
            ],
            [
             0.2,
             "#de77ae"
            ],
            [
             0.3,
             "#f1b6da"
            ],
            [
             0.4,
             "#fde0ef"
            ],
            [
             0.5,
             "#f7f7f7"
            ],
            [
             0.6,
             "#e6f5d0"
            ],
            [
             0.7,
             "#b8e186"
            ],
            [
             0.8,
             "#7fbc41"
            ],
            [
             0.9,
             "#4d9221"
            ],
            [
             1,
             "#276419"
            ]
           ],
           "sequential": [
            [
             0,
             "#0d0887"
            ],
            [
             0.1111111111111111,
             "#46039f"
            ],
            [
             0.2222222222222222,
             "#7201a8"
            ],
            [
             0.3333333333333333,
             "#9c179e"
            ],
            [
             0.4444444444444444,
             "#bd3786"
            ],
            [
             0.5555555555555556,
             "#d8576b"
            ],
            [
             0.6666666666666666,
             "#ed7953"
            ],
            [
             0.7777777777777778,
             "#fb9f3a"
            ],
            [
             0.8888888888888888,
             "#fdca26"
            ],
            [
             1,
             "#f0f921"
            ]
           ],
           "sequentialminus": [
            [
             0,
             "#0d0887"
            ],
            [
             0.1111111111111111,
             "#46039f"
            ],
            [
             0.2222222222222222,
             "#7201a8"
            ],
            [
             0.3333333333333333,
             "#9c179e"
            ],
            [
             0.4444444444444444,
             "#bd3786"
            ],
            [
             0.5555555555555556,
             "#d8576b"
            ],
            [
             0.6666666666666666,
             "#ed7953"
            ],
            [
             0.7777777777777778,
             "#fb9f3a"
            ],
            [
             0.8888888888888888,
             "#fdca26"
            ],
            [
             1,
             "#f0f921"
            ]
           ]
          },
          "colorway": [
           "#636efa",
           "#EF553B",
           "#00cc96",
           "#ab63fa",
           "#FFA15A",
           "#19d3f3",
           "#FF6692",
           "#B6E880",
           "#FF97FF",
           "#FECB52"
          ],
          "font": {
           "color": "#2a3f5f"
          },
          "geo": {
           "bgcolor": "white",
           "lakecolor": "white",
           "landcolor": "#E5ECF6",
           "showlakes": true,
           "showland": true,
           "subunitcolor": "white"
          },
          "hoverlabel": {
           "align": "left"
          },
          "hovermode": "closest",
          "mapbox": {
           "style": "light"
          },
          "paper_bgcolor": "white",
          "plot_bgcolor": "#E5ECF6",
          "polar": {
           "angularaxis": {
            "gridcolor": "white",
            "linecolor": "white",
            "ticks": ""
           },
           "bgcolor": "#E5ECF6",
           "radialaxis": {
            "gridcolor": "white",
            "linecolor": "white",
            "ticks": ""
           }
          },
          "scene": {
           "xaxis": {
            "backgroundcolor": "#E5ECF6",
            "gridcolor": "white",
            "gridwidth": 2,
            "linecolor": "white",
            "showbackground": true,
            "ticks": "",
            "zerolinecolor": "white"
           },
           "yaxis": {
            "backgroundcolor": "#E5ECF6",
            "gridcolor": "white",
            "gridwidth": 2,
            "linecolor": "white",
            "showbackground": true,
            "ticks": "",
            "zerolinecolor": "white"
           },
           "zaxis": {
            "backgroundcolor": "#E5ECF6",
            "gridcolor": "white",
            "gridwidth": 2,
            "linecolor": "white",
            "showbackground": true,
            "ticks": "",
            "zerolinecolor": "white"
           }
          },
          "shapedefaults": {
           "line": {
            "color": "#2a3f5f"
           }
          },
          "ternary": {
           "aaxis": {
            "gridcolor": "white",
            "linecolor": "white",
            "ticks": ""
           },
           "baxis": {
            "gridcolor": "white",
            "linecolor": "white",
            "ticks": ""
           },
           "bgcolor": "#E5ECF6",
           "caxis": {
            "gridcolor": "white",
            "linecolor": "white",
            "ticks": ""
           }
          },
          "title": {
           "x": 0.05
          },
          "xaxis": {
           "automargin": true,
           "gridcolor": "white",
           "linecolor": "white",
           "ticks": "",
           "title": {
            "standoff": 15
           },
           "zerolinecolor": "white",
           "zerolinewidth": 2
          },
          "yaxis": {
           "automargin": true,
           "gridcolor": "white",
           "linecolor": "white",
           "ticks": "",
           "title": {
            "standoff": 15
           },
           "zerolinecolor": "white",
           "zerolinewidth": 2
          }
         }
        },
        "title": {
         "text": "Crop production index (2014-2016 = 100) in Sample Over Time"
        },
        "xaxis": {
         "anchor": "y",
         "domain": [
          0,
          1
         ],
         "title": {
          "text": "year"
         }
        },
        "yaxis": {
         "anchor": "x",
         "domain": [
          0,
          1
         ],
         "title": {
          "text": "Crop production index (2014-2016 = 100)"
         }
        }
       }
      }
     },
     "metadata": {},
     "output_type": "display_data"
    }
   ],
   "source": [
    "px.line(\n",
    "    df_for_interactive,\n",
    "    x = 'year',\n",
    "    y = 'Crop production index (2014-2016 = 100)',\n",
    "    color = 'code',\n",
    "    title='Crop production index (2014-2016 = 100) in Sample Over Time'\n",
    ")"
   ]
  },
  {
   "cell_type": "markdown",
   "id": "1e329475",
   "metadata": {},
   "source": [
    "## Creating Scatter Plots of Relationships\n",
    "### Account (% age 15+)"
   ]
  },
  {
   "cell_type": "code",
   "execution_count": 32,
   "id": "8b204b64",
   "metadata": {},
   "outputs": [
    {
     "data": {
      "image/png": "[encoded data removed]",
      "text/plain": [
       "<Figure size 800x600 with 1 Axes>"
      ]
     },
     "metadata": {},
     "output_type": "display_data"
    }
   ],
   "source": [
    "df_for_scatter = df.dropna(subset=['Mobile Cellular Subscriptions (per 100 people)','Account (% age 15+)'])\n",
    "\n",
    "viz.scatter_plot(df_for_scatter,\n",
    "                 'Mobile Cellular Subscriptions (per 100 people)',\n",
    "                 'Account (% age 15+)',\n",
    "                 'Mobile Cellular Subscriptions vs Pop. % Age 15+ with Financial Accounts by Region',\n",
    "                 'region')"
   ]
  },
  {
   "cell_type": "code",
   "execution_count": 35,
   "id": "f5983bb5",
   "metadata": {},
   "outputs": [
    {
     "data": {
      "image/png": "[encoded data removed]",
      "text/plain": [
       "<Figure size 800x600 with 1 Axes>"
      ]
     },
     "metadata": {},
     "output_type": "display_data"
    }
   ],
   "source": [
    "df_for_scatter = df.dropna(subset=['Mobile Cellular Subscriptions (per 100 people)','Crop production index (2014-2016 = 100)'])\n",
    "\n",
    "viz.scatter_plot(df_for_scatter,\n",
    "                 'Mobile Cellular Subscriptions (per 100 people)',\n",
    "                 'Crop production index (2014-2016 = 100)',\n",
    "                 'Mobile Cellular Subscriptions vs Crop Production',\n",
    "                 'region')"
   ]
  },
  {
   "cell_type": "markdown",
   "id": "32b67546",
   "metadata": {},
   "source": [
    "## Other Visualizations\n",
    "### Spider Plot"
   ]
  },
  {
   "cell_type": "code",
   "execution_count": null,
   "id": "b6680108",
   "metadata": {},
   "outputs": [],
   "source": [
    "#WIP"
   ]
  }
 ],
 "metadata": {
  "kernelspec": {
   "display_name": "pandas",
   "language": "python",
   "name": "python3"
  },
  "language_info": {
   "codemirror_mode": {
    "name": "ipython",
    "version": 3
   },
   "file_extension": ".py",
   "mimetype": "text/x-python",
   "name": "python",
   "nbconvert_exporter": "python",
   "pygments_lexer": "ipython3",
   "version": "3.12.9"
  }
 },
 "nbformat": 4,
 "nbformat_minor": 5
}
