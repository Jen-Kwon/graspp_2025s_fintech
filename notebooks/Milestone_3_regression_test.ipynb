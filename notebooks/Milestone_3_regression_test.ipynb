{
 "cells": [
  {
   "cell_type": "markdown",
   "id": "d2efee77",
   "metadata": {},
   "source": [
    "## Regression for Milestone 3"
   ]
  },
  {
   "cell_type": "markdown",
   "id": "92233617",
   "metadata": {},
   "source": [
    "### <span style=\"color: LightGreen;\">reference</span>\n",
    "\n",
    "original x-variable names\n",
    "   - \"Account (% age 15+)\",\n",
    "   -  \"Account ownership at a financial institution or with a mobile-money-service provider (% of population ages 15+)\",\n",
    "   -  \"Current account balance (% of GDP)\",\n",
    "   -  \"Current account balance (BoP, current US$)\",\n",
    "   -  \"Financial institution account (% age 15+)\",\n",
    "   -  \"Made a deposit (% with a financial institution account, age 15+)\",\n",
    "   -  \"Made a digital payment (% age 15+)\",\n",
    "   -  \"Made a utility payment (% age 15+)\",\n",
    "   -  \"Made a utility payment: using a financial institution account (% age 15+)\",\n",
    "   -  \"Made a withdrawal (% with a financial institution account, age 15+)\",\n",
    "   -  \"Made or received a digital payment (% age 15+)\",\n",
    "   -  \"Mobile money account (% age 15+)\",\n",
    "   -  \"Owns a debit or credit card (% age 15+)\",\n",
    "   -  \"Received digital payments (% age 15+)\",\n",
    "   -  \"Saved at a financial institution or using a mobile money account (% age 15+)\",\n",
    "   -  \"Saved money using a mobile money account (% age 15+)\",\n",
    "   -  \"Store money using a financial institution or a mobile money account (% age 15+)\",\n",
    "   -  \"Store money using a financial institution or a mobile money account (% with an account,  age 15+)\",\n",
    "   -  \"Store money using a mobile money account (% age 15+)\",\n",
    "   -  \"Store money using a mobile money account (% with a mobile money account acount, age 15+)\",\n",
    "   -  \"Mobile Cellular Subscriptions (per 100 people)\",\n",
    "   -  \"Fixed Broadband Subsciptions (per 100 people)\",\n",
    "   -  \"Made a digital in-store merchant payment: using a mobile phone (% age 15+)\",\n",
    "   -  \"Made a utility payment: using a mobile phone (% age 15+)\",\n",
    "   -  \"Own a mobile phone (% age 15+)\",\n",
    "   -  \"Use a mobile phone or the internet to make payments, buy things, or to send or receive money using a financial institution account (% age 15+)\",\n",
    "   -  \"Use a mobile phone or the internet to make payments, buy things, or to send or receive money using a financial institution account (% with a financial institution account, age 15+)\",\n",
    "   -  \"Used a mobile phone or the internet to access a financial institution account (% age 15+)\",\n",
    "   -  \"Used a mobile phone or the internet to access a financial institution account (% with a financial institution account, age 15+)\",\n",
    "   -  \"Used a mobile phone or the internet to access an account (% with an account, age 15+)\",\n",
    "   -  \"Used a mobile phone or the internet to access an account(% age 15+)\",\n",
    "   -  \"Used a mobile phone or the internet to buy something online (% age 15+)\",\n",
    "   -  \"Used a mobile phone or the internet to check account balance(% age 15+)\",\n",
    "   -  \"Used a mobile phone or the internet to check account balance(% with a financial institution account, age 15+)\",\n",
    "   -  \"Used a mobile phone or the internet to send money (% age 15+)\",\n",
    "   -  \"GDP per capita, PPP (constant 2021 international $)\",\n",
    "   -  \"Population density (people per sq. km of land area)\",\n",
    "   -  \"Population growth (annual %)\",\n",
    "   -  \"Population, total\",\n",
    "   -  \"Rural Access to Electricity(Percent of Population)\",\n",
    "   -  \"Fertility rate, total (births per woman)\",\n",
    "   -  \"Life expectancy at birth, total (years)\",\n",
    "   -  \"Mortality rate, infant (per 1,000 live births)\",\n",
    "   -  \"Rural population (% of total population)\",\n",
    "   -  \"Urban population (% of total population)\"\n"
   ]
  },
  {
   "cell_type": "markdown",
   "id": "243173c1",
   "metadata": {},
   "source": [
    "### import reqiored package"
   ]
  },
  {
   "cell_type": "code",
   "execution_count": 8,
   "id": "fd7538ef",
   "metadata": {},
   "outputs": [],
   "source": [
    "\n",
    "# import necessary libraries\n",
    "import pandas as pd\n",
    "import numpy as np\n",
    "import statsmodels.api as sm\n",
    "import seaborn as sns\n",
    "from statsmodels.stats.outliers_influence import variance_inflation_factor\n",
    "\n",
    "\n"
   ]
  },
  {
   "cell_type": "code",
   "execution_count": 20,
   "id": "2ec5600e",
   "metadata": {},
   "outputs": [],
   "source": [
    "# import the final dataset \n",
    "df_finaldataset = pd.read_csv('../Data/processed/final_dataset.csv')"
   ]
  },
  {
   "cell_type": "markdown",
   "id": "76fafbc2",
   "metadata": {},
   "source": [
    "### 6. Multiple Regression Analysis for Financail Inclusion Indicators"
   ]
  },
  {
   "cell_type": "code",
   "execution_count": 12,
   "id": "576c885c",
   "metadata": {},
   "outputs": [
    {
     "data": {
      "text/markdown": [
       "## VIF(variane inflation facrot) for current set of X-variables "
      ],
      "text/plain": [
       "<IPython.core.display.Markdown object>"
      ]
     },
     "metadata": {},
     "output_type": "display_data"
    },
    {
     "name": "stdout",
     "output_type": "stream",
     "text": [
      "                                            Variable       VIF\n",
      "0      Fixed Broadband Subsciptions (per 100 people)  5.984048\n",
      "1  Made a digital in-store merchant payment: usin...  4.787049\n",
      "2  Made a utility payment: using a mobile phone (...  3.580313\n",
      "3  GDP per capita, PPP (constant 2021 internation...  8.829748\n",
      "4  Population density (people per sq. km of land ...  1.983060\n",
      "5                       Population growth (annual %)  7.561243\n",
      "6                               foodSupply_stability  1.870152\n",
      "7     Mortality rate, infant (per 1,000 live births)  5.265922\n",
      "\n",
      "| VIF Range       | Variables | Severity          |\n",
      "|-----------------|-----------|-------------------|\n",
      "| > 10,000       | 7         | Critical          |\n",
      "| 1,000 - 10,000 | 7         | Severe            |\n",
      "| 100 - 1,000    | 8         | High              |\n",
      "| 10 - 100       | 3         | Moderate          |\n",
      "| < 10           | 4         | Acceptable        |\n"
     ]
    },
    {
     "data": {
      "text/markdown": [
       "## 🔍 6-1 Regression for Dependent Variable: `Account (% age 15+)`"
      ],
      "text/plain": [
       "<IPython.core.display.Markdown object>"
      ]
     },
     "metadata": {},
     "output_type": "display_data"
    },
    {
     "name": "stdout",
     "output_type": "stream",
     "text": [
      "                             OLS Regression Results                            \n",
      "===============================================================================\n",
      "Dep. Variable:     Account (% age 15+)   R-squared:                       0.721\n",
      "Model:                             OLS   Adj. R-squared:                  0.711\n",
      "Method:                  Least Squares   F-statistic:                     71.49\n",
      "Date:                 Sun, 29 Jun 2025   Prob (F-statistic):           4.40e-57\n",
      "Time:                         12:18:13   Log-Likelihood:                -895.86\n",
      "No. Observations:                  230   AIC:                             1810.\n",
      "Df Residuals:                      221   BIC:                             1841.\n",
      "Df Model:                            8                                         \n",
      "Covariance Type:             nonrobust                                         \n",
      "==============================================================================================================================================\n",
      "                                                                                 coef    std err          t      P>|t|      [0.025      0.975]\n",
      "----------------------------------------------------------------------------------------------------------------------------------------------\n",
      "const                                                                         49.3953      4.401     11.222      0.000      40.721      58.069\n",
      "Fixed Broadband Subsciptions (per 100 people)                                 -1.1992      0.315     -3.806      0.000      -1.820      -0.578\n",
      "Made a digital in-store merchant payment: using a mobile phone (% age 15+)     0.2079      0.092      2.265      0.024       0.027       0.389\n",
      "Made a utility payment: using a mobile phone (% age 15+)                       0.6527      0.240      2.725      0.007       0.181       1.125\n",
      "GDP per capita, PPP (constant 2021 international $)                            0.0019      0.000      7.284      0.000       0.001       0.002\n",
      "Population density (people per sq. km of land area)                            0.0126      0.003      4.417      0.000       0.007       0.018\n",
      "Population growth (annual %)                                                  -9.8595      1.871     -5.269      0.000     -13.547      -6.172\n",
      "foodSupply_stability                                                          -0.2199      0.066     -3.309      0.001      -0.351      -0.089\n",
      "Mortality rate, infant (per 1,000 live births)                                -0.3948      0.091     -4.352      0.000      -0.574      -0.216\n",
      "==============================================================================\n",
      "Omnibus:                       30.546   Durbin-Watson:                   0.269\n",
      "Prob(Omnibus):                  0.000   Jarque-Bera (JB):               38.451\n",
      "Skew:                           0.974   Prob(JB):                     4.47e-09\n",
      "Kurtosis:                       3.468   Cond. No.                     6.32e+04\n",
      "==============================================================================\n",
      "\n",
      "Notes:\n",
      "[1] Standard Errors assume that the covariance matrix of the errors is correctly specified.\n",
      "[2] The condition number is large, 6.32e+04. This might indicate that there are\n",
      "strong multicollinearity or other numerical problems.\n"
     ]
    },
    {
     "data": {
      "text/markdown": [
       "## 🔍 6-2 Regression for Dependent Variable: `Account ownership at a financial institution or with a mobile-money-service provider (% of population ages 15+)`"
      ],
      "text/plain": [
       "<IPython.core.display.Markdown object>"
      ]
     },
     "metadata": {},
     "output_type": "display_data"
    },
    {
     "name": "stdout",
     "output_type": "stream",
     "text": [
      "                                                                           OLS Regression Results                                                                          \n",
      "===========================================================================================================================================================================\n",
      "Dep. Variable:     Account ownership at a financial institution or with a mobile-money-service provider (% of population ages 15+)   R-squared:                       0.721\n",
      "Model:                                                                                                                         OLS   Adj. R-squared:                  0.711\n",
      "Method:                                                                                                              Least Squares   F-statistic:                     71.49\n",
      "Date:                                                                                                             Sun, 29 Jun 2025   Prob (F-statistic):           4.40e-57\n",
      "Time:                                                                                                                     12:18:13   Log-Likelihood:                -895.86\n",
      "No. Observations:                                                                                                              230   AIC:                             1810.\n",
      "Df Residuals:                                                                                                                  221   BIC:                             1841.\n",
      "Df Model:                                                                                                                        8                                         \n",
      "Covariance Type:                                                                                                         nonrobust                                         \n",
      "==============================================================================================================================================\n",
      "                                                                                 coef    std err          t      P>|t|      [0.025      0.975]\n",
      "----------------------------------------------------------------------------------------------------------------------------------------------\n",
      "const                                                                         49.3953      4.401     11.222      0.000      40.721      58.069\n",
      "Fixed Broadband Subsciptions (per 100 people)                                 -1.1992      0.315     -3.806      0.000      -1.820      -0.578\n",
      "Made a digital in-store merchant payment: using a mobile phone (% age 15+)     0.2079      0.092      2.265      0.024       0.027       0.389\n",
      "Made a utility payment: using a mobile phone (% age 15+)                       0.6527      0.240      2.725      0.007       0.181       1.125\n",
      "GDP per capita, PPP (constant 2021 international $)                            0.0019      0.000      7.284      0.000       0.001       0.002\n",
      "Population density (people per sq. km of land area)                            0.0126      0.003      4.417      0.000       0.007       0.018\n",
      "Population growth (annual %)                                                  -9.8595      1.871     -5.269      0.000     -13.547      -6.172\n",
      "foodSupply_stability                                                          -0.2199      0.066     -3.309      0.001      -0.351      -0.089\n",
      "Mortality rate, infant (per 1,000 live births)                                -0.3948      0.091     -4.352      0.000      -0.574      -0.216\n",
      "==============================================================================\n",
      "Omnibus:                       30.546   Durbin-Watson:                   0.269\n",
      "Prob(Omnibus):                  0.000   Jarque-Bera (JB):               38.451\n",
      "Skew:                           0.974   Prob(JB):                     4.47e-09\n",
      "Kurtosis:                       3.468   Cond. No.                     6.32e+04\n",
      "==============================================================================\n",
      "\n",
      "Notes:\n",
      "[1] Standard Errors assume that the covariance matrix of the errors is correctly specified.\n",
      "[2] The condition number is large, 6.32e+04. This might indicate that there are\n",
      "strong multicollinearity or other numerical problems.\n"
     ]
    },
    {
     "data": {
      "text/markdown": [
       "## 🔍 6-3 Regression for Dependent Variable: `Current account balance (% of GDP)`"
      ],
      "text/plain": [
       "<IPython.core.display.Markdown object>"
      ]
     },
     "metadata": {},
     "output_type": "display_data"
    },
    {
     "name": "stdout",
     "output_type": "stream",
     "text": [
      "                                    OLS Regression Results                                    \n",
      "==============================================================================================\n",
      "Dep. Variable:     Current account balance (% of GDP)   R-squared:                       0.372\n",
      "Model:                                            OLS   Adj. R-squared:                  0.349\n",
      "Method:                                 Least Squares   F-statistic:                     16.37\n",
      "Date:                                Sun, 29 Jun 2025   Prob (F-statistic):           5.93e-19\n",
      "Time:                                        12:18:13   Log-Likelihood:                -655.43\n",
      "No. Observations:                                 230   AIC:                             1329.\n",
      "Df Residuals:                                     221   BIC:                             1360.\n",
      "Df Model:                                           8                                         \n",
      "Covariance Type:                            nonrobust                                         \n",
      "==============================================================================================================================================\n",
      "                                                                                 coef    std err          t      P>|t|      [0.025      0.975]\n",
      "----------------------------------------------------------------------------------------------------------------------------------------------\n",
      "const                                                                        -10.3271      1.547     -6.674      0.000     -13.377      -7.277\n",
      "Fixed Broadband Subsciptions (per 100 people)                                  0.2964      0.111      2.675      0.008       0.078       0.515\n",
      "Made a digital in-store merchant payment: using a mobile phone (% age 15+)     0.0971      0.032      3.009      0.003       0.034       0.161\n",
      "Made a utility payment: using a mobile phone (% age 15+)                      -0.3118      0.084     -3.702      0.000      -0.478      -0.146\n",
      "GDP per capita, PPP (constant 2021 international $)                            0.0004   9.09e-05      4.549      0.000       0.000       0.001\n",
      "Population density (people per sq. km of land area)                            0.0046      0.001      4.619      0.000       0.003       0.007\n",
      "Population growth (annual %)                                                  -1.1933      0.658     -1.814      0.071      -2.490       0.103\n",
      "foodSupply_stability                                                           0.0644      0.023      2.758      0.006       0.018       0.110\n",
      "Mortality rate, infant (per 1,000 live births)                                 0.0904      0.032      2.833      0.005       0.028       0.153\n",
      "==============================================================================\n",
      "Omnibus:                      111.281   Durbin-Watson:                   0.628\n",
      "Prob(Omnibus):                  0.000   Jarque-Bera (JB):              812.089\n",
      "Skew:                          -1.740   Prob(JB):                    4.54e-177\n",
      "Kurtosis:                      11.522   Cond. No.                     6.32e+04\n",
      "==============================================================================\n",
      "\n",
      "Notes:\n",
      "[1] Standard Errors assume that the covariance matrix of the errors is correctly specified.\n",
      "[2] The condition number is large, 6.32e+04. This might indicate that there are\n",
      "strong multicollinearity or other numerical problems.\n"
     ]
    },
    {
     "data": {
      "text/markdown": [
       "## 🔍 6-4 Regression for Dependent Variable: `Current account balance (BoP, current US$)`"
      ],
      "text/plain": [
       "<IPython.core.display.Markdown object>"
      ]
     },
     "metadata": {},
     "output_type": "display_data"
    },
    {
     "name": "stdout",
     "output_type": "stream",
     "text": [
      "                                        OLS Regression Results                                        \n",
      "======================================================================================================\n",
      "Dep. Variable:     Current account balance (BoP, current US$)   R-squared:                       0.228\n",
      "Model:                                                    OLS   Adj. R-squared:                  0.200\n",
      "Method:                                         Least Squares   F-statistic:                     8.167\n",
      "Date:                                        Sun, 29 Jun 2025   Prob (F-statistic):           1.15e-09\n",
      "Time:                                                12:18:13   Log-Likelihood:                -5729.7\n",
      "No. Observations:                                         230   AIC:                         1.148e+04\n",
      "Df Residuals:                                             221   BIC:                         1.151e+04\n",
      "Df Model:                                                   8                                         \n",
      "Covariance Type:                                    nonrobust                                         \n",
      "==============================================================================================================================================\n",
      "                                                                                 coef    std err          t      P>|t|      [0.025      0.975]\n",
      "----------------------------------------------------------------------------------------------------------------------------------------------\n",
      "const                                                                      -1.347e+10    5.9e+09     -2.282      0.023   -2.51e+10   -1.84e+09\n",
      "Fixed Broadband Subsciptions (per 100 people)                               1.233e+09   4.23e+08      2.917      0.004       4e+08    2.07e+09\n",
      "Made a digital in-store merchant payment: using a mobile phone (% age 15+)  2.827e+08   1.23e+08      2.296      0.023       4e+07    5.25e+08\n",
      "Made a utility payment: using a mobile phone (% age 15+)                   -9.885e+08   3.21e+08     -3.078      0.002   -1.62e+09   -3.56e+08\n",
      "GDP per capita, PPP (constant 2021 international $)                         4.574e+05   3.47e+05      1.319      0.189   -2.26e+05    1.14e+06\n",
      "Population density (people per sq. km of land area)                        -4.471e+06   3.83e+06     -1.168      0.244    -1.2e+07    3.07e+06\n",
      "Population growth (annual %)                                               -2.702e+07   2.51e+09     -0.011      0.991   -4.97e+09    4.92e+09\n",
      "foodSupply_stability                                                        6.265e+07   8.91e+07      0.703      0.483   -1.13e+08    2.38e+08\n",
      "Mortality rate, infant (per 1,000 live births)                              4.257e+07   1.22e+08      0.350      0.727   -1.97e+08    2.82e+08\n",
      "==============================================================================\n",
      "Omnibus:                      118.925   Durbin-Watson:                   0.583\n",
      "Prob(Omnibus):                  0.000   Jarque-Bera (JB):              655.921\n",
      "Skew:                          -2.023   Prob(JB):                    3.70e-143\n",
      "Kurtosis:                      10.217   Cond. No.                     6.32e+04\n",
      "==============================================================================\n",
      "\n",
      "Notes:\n",
      "[1] Standard Errors assume that the covariance matrix of the errors is correctly specified.\n",
      "[2] The condition number is large, 6.32e+04. This might indicate that there are\n",
      "strong multicollinearity or other numerical problems.\n"
     ]
    },
    {
     "data": {
      "text/markdown": [
       "## 🔍 6-5 Regression for Dependent Variable: `Financial institution account (% age 15+)`"
      ],
      "text/plain": [
       "<IPython.core.display.Markdown object>"
      ]
     },
     "metadata": {},
     "output_type": "display_data"
    },
    {
     "name": "stdout",
     "output_type": "stream",
     "text": [
      "                                        OLS Regression Results                                       \n",
      "=====================================================================================================\n",
      "Dep. Variable:     Financial institution account (% age 15+)   R-squared:                       0.703\n",
      "Model:                                                   OLS   Adj. R-squared:                  0.692\n",
      "Method:                                        Least Squares   F-statistic:                     65.41\n",
      "Date:                                       Sun, 29 Jun 2025   Prob (F-statistic):           4.48e-54\n",
      "Time:                                               12:18:13   Log-Likelihood:                -911.06\n",
      "No. Observations:                                        230   AIC:                             1840.\n",
      "Df Residuals:                                            221   BIC:                             1871.\n",
      "Df Model:                                                  8                                         \n",
      "Covariance Type:                                   nonrobust                                         \n",
      "==============================================================================================================================================\n",
      "                                                                                 coef    std err          t      P>|t|      [0.025      0.975]\n",
      "----------------------------------------------------------------------------------------------------------------------------------------------\n",
      "const                                                                         47.9595      4.702     10.199      0.000      38.693      57.226\n",
      "Fixed Broadband Subsciptions (per 100 people)                                 -1.0705      0.337     -3.180      0.002      -1.734      -0.407\n",
      "Made a digital in-store merchant payment: using a mobile phone (% age 15+)     0.2078      0.098      2.119      0.035       0.015       0.401\n",
      "Made a utility payment: using a mobile phone (% age 15+)                       0.3692      0.256      1.443      0.151      -0.135       0.873\n",
      "GDP per capita, PPP (constant 2021 international $)                            0.0021      0.000      7.447      0.000       0.002       0.003\n",
      "Population density (people per sq. km of land area)                            0.0074      0.003      2.424      0.016       0.001       0.013\n",
      "Population growth (annual %)                                                 -10.1790      1.999     -5.092      0.000     -14.119      -6.240\n",
      "foodSupply_stability                                                          -0.2319      0.071     -3.266      0.001      -0.372      -0.092\n",
      "Mortality rate, infant (per 1,000 live births)                                -0.3905      0.097     -4.028      0.000      -0.582      -0.199\n",
      "==============================================================================\n",
      "Omnibus:                       36.577   Durbin-Watson:                   0.239\n",
      "Prob(Omnibus):                  0.000   Jarque-Bera (JB):               48.656\n",
      "Skew:                           1.075   Prob(JB):                     2.72e-11\n",
      "Kurtosis:                       3.672   Cond. No.                     6.32e+04\n",
      "==============================================================================\n",
      "\n",
      "Notes:\n",
      "[1] Standard Errors assume that the covariance matrix of the errors is correctly specified.\n",
      "[2] The condition number is large, 6.32e+04. This might indicate that there are\n",
      "strong multicollinearity or other numerical problems.\n"
     ]
    },
    {
     "data": {
      "text/markdown": [
       "## 🔍 6-6 Regression for Dependent Variable: `Made a deposit (% with a financial institution account, age 15+)`"
      ],
      "text/plain": [
       "<IPython.core.display.Markdown object>"
      ]
     },
     "metadata": {},
     "output_type": "display_data"
    },
    {
     "name": "stdout",
     "output_type": "stream",
     "text": [
      "                                                   OLS Regression Results                                                   \n",
      "============================================================================================================================\n",
      "Dep. Variable:     Made a deposit (% with a financial institution account, age 15+)   R-squared:                       0.617\n",
      "Model:                                                                          OLS   Adj. R-squared:                  0.603\n",
      "Method:                                                               Least Squares   F-statistic:                     44.42\n",
      "Date:                                                              Sun, 29 Jun 2025   Prob (F-statistic):           5.67e-42\n",
      "Time:                                                                      12:18:13   Log-Likelihood:                -844.97\n",
      "No. Observations:                                                               230   AIC:                             1708.\n",
      "Df Residuals:                                                                   221   BIC:                             1739.\n",
      "Df Model:                                                                         8                                         \n",
      "Covariance Type:                                                          nonrobust                                         \n",
      "==============================================================================================================================================\n",
      "                                                                                 coef    std err          t      P>|t|      [0.025      0.975]\n",
      "----------------------------------------------------------------------------------------------------------------------------------------------\n",
      "const                                                                         43.9998      3.528     12.472      0.000      37.047      50.952\n",
      "Fixed Broadband Subsciptions (per 100 people)                                  1.2620      0.253      4.997      0.000       0.764       1.760\n",
      "Made a digital in-store merchant payment: using a mobile phone (% age 15+)     0.4449      0.074      6.047      0.000       0.300       0.590\n",
      "Made a utility payment: using a mobile phone (% age 15+)                      -0.7784      0.192     -4.055      0.000      -1.157      -0.400\n",
      "GDP per capita, PPP (constant 2021 international $)                            0.0003      0.000      1.265      0.207      -0.000       0.001\n",
      "Population density (people per sq. km of land area)                           -0.0070      0.002     -3.052      0.003      -0.011      -0.002\n",
      "Population growth (annual %)                                                  -0.2249      1.500     -0.150      0.881      -3.180       2.731\n",
      "foodSupply_stability                                                           0.2410      0.053      4.524      0.000       0.136       0.346\n",
      "Mortality rate, infant (per 1,000 live births)                                -0.0820      0.073     -1.127      0.261      -0.225       0.061\n",
      "==============================================================================\n",
      "Omnibus:                       12.293   Durbin-Watson:                   0.267\n",
      "Prob(Omnibus):                  0.002   Jarque-Bera (JB):               13.225\n",
      "Skew:                           0.587   Prob(JB):                      0.00134\n",
      "Kurtosis:                       2.985   Cond. No.                     6.32e+04\n",
      "==============================================================================\n",
      "\n",
      "Notes:\n",
      "[1] Standard Errors assume that the covariance matrix of the errors is correctly specified.\n",
      "[2] The condition number is large, 6.32e+04. This might indicate that there are\n",
      "strong multicollinearity or other numerical problems.\n"
     ]
    },
    {
     "data": {
      "text/markdown": [
       "## 🔍 6-7 Regression for Dependent Variable: `Made a digital payment (% age 15+)`"
      ],
      "text/plain": [
       "<IPython.core.display.Markdown object>"
      ]
     },
     "metadata": {},
     "output_type": "display_data"
    },
    {
     "name": "stdout",
     "output_type": "stream",
     "text": [
      "                                    OLS Regression Results                                    \n",
      "==============================================================================================\n",
      "Dep. Variable:     Made a digital payment (% age 15+)   R-squared:                       0.889\n",
      "Model:                                            OLS   Adj. R-squared:                  0.885\n",
      "Method:                                 Least Squares   F-statistic:                     221.8\n",
      "Date:                                Sun, 29 Jun 2025   Prob (F-statistic):          4.24e-101\n",
      "Time:                                        12:18:13   Log-Likelihood:                -714.38\n",
      "No. Observations:                                 230   AIC:                             1447.\n",
      "Df Residuals:                                     221   BIC:                             1478.\n",
      "Df Model:                                           8                                         \n",
      "Covariance Type:                            nonrobust                                         \n",
      "==============================================================================================================================================\n",
      "                                                                                 coef    std err          t      P>|t|      [0.025      0.975]\n",
      "----------------------------------------------------------------------------------------------------------------------------------------------\n",
      "const                                                                         10.7735      2.000      5.388      0.000       6.833      14.714\n",
      "Fixed Broadband Subsciptions (per 100 people)                                  0.0347      0.143      0.242      0.809      -0.247       0.317\n",
      "Made a digital in-store merchant payment: using a mobile phone (% age 15+)    -0.0058      0.042     -0.139      0.889      -0.088       0.076\n",
      "Made a utility payment: using a mobile phone (% age 15+)                       1.8434      0.109     16.941      0.000       1.629       2.058\n",
      "GDP per capita, PPP (constant 2021 international $)                            0.0009      0.000      7.588      0.000       0.001       0.001\n",
      "Population density (people per sq. km of land area)                            0.0045      0.001      3.494      0.001       0.002       0.007\n",
      "Population growth (annual %)                                                  -0.2355      0.850     -0.277      0.782      -1.911       1.440\n",
      "foodSupply_stability                                                           0.0579      0.030      1.920      0.056      -0.002       0.117\n",
      "Mortality rate, infant (per 1,000 live births)                                -0.1659      0.041     -4.024      0.000      -0.247      -0.085\n",
      "==============================================================================\n",
      "Omnibus:                       35.064   Durbin-Watson:                   0.292\n",
      "Prob(Omnibus):                  0.000   Jarque-Bera (JB):               82.952\n",
      "Skew:                           0.699   Prob(JB):                     9.71e-19\n",
      "Kurtosis:                       5.588   Cond. No.                     6.32e+04\n",
      "==============================================================================\n",
      "\n",
      "Notes:\n",
      "[1] Standard Errors assume that the covariance matrix of the errors is correctly specified.\n",
      "[2] The condition number is large, 6.32e+04. This might indicate that there are\n",
      "strong multicollinearity or other numerical problems.\n"
     ]
    },
    {
     "data": {
      "text/markdown": [
       "## 🔍 6-8 Regression for Dependent Variable: `Made a utility payment (% age 15+)`"
      ],
      "text/plain": [
       "<IPython.core.display.Markdown object>"
      ]
     },
     "metadata": {},
     "output_type": "display_data"
    },
    {
     "name": "stdout",
     "output_type": "stream",
     "text": [
      "                                    OLS Regression Results                                    \n",
      "==============================================================================================\n",
      "Dep. Variable:     Made a utility payment (% age 15+)   R-squared:                       0.539\n",
      "Model:                                            OLS   Adj. R-squared:                  0.522\n",
      "Method:                                 Least Squares   F-statistic:                     32.31\n",
      "Date:                                Sun, 29 Jun 2025   Prob (F-statistic):           2.56e-33\n",
      "Time:                                        12:18:13   Log-Likelihood:                -886.32\n",
      "No. Observations:                                 230   AIC:                             1791.\n",
      "Df Residuals:                                     221   BIC:                             1822.\n",
      "Df Model:                                           8                                         \n",
      "Covariance Type:                            nonrobust                                         \n",
      "==============================================================================================================================================\n",
      "                                                                                 coef    std err          t      P>|t|      [0.025      0.975]\n",
      "----------------------------------------------------------------------------------------------------------------------------------------------\n",
      "const                                                                         72.2065      4.223     17.100      0.000      63.885      80.528\n",
      "Fixed Broadband Subsciptions (per 100 people)                                  0.4092      0.302      1.354      0.177      -0.187       1.005\n",
      "Made a digital in-store merchant payment: using a mobile phone (% age 15+)     0.3984      0.088      4.523      0.000       0.225       0.572\n",
      "Made a utility payment: using a mobile phone (% age 15+)                      -0.2175      0.230     -0.946      0.345      -0.670       0.235\n",
      "GDP per capita, PPP (constant 2021 international $)                           -0.0009      0.000     -3.598      0.000      -0.001      -0.000\n",
      "Population density (people per sq. km of land area)                           -0.0228      0.003     -8.335      0.000      -0.028      -0.017\n",
      "Population growth (annual %)                                                   7.5733      1.795      4.219      0.000       4.036      11.111\n",
      "foodSupply_stability                                                           0.0106      0.064      0.167      0.868      -0.115       0.136\n",
      "Mortality rate, infant (per 1,000 live births)                                -0.6426      0.087     -7.382      0.000      -0.814      -0.471\n",
      "==============================================================================\n",
      "Omnibus:                        9.237   Durbin-Watson:                   0.214\n",
      "Prob(Omnibus):                  0.010   Jarque-Bera (JB):                4.458\n",
      "Skew:                          -0.034   Prob(JB):                        0.108\n",
      "Kurtosis:                       2.321   Cond. No.                     6.32e+04\n",
      "==============================================================================\n",
      "\n",
      "Notes:\n",
      "[1] Standard Errors assume that the covariance matrix of the errors is correctly specified.\n",
      "[2] The condition number is large, 6.32e+04. This might indicate that there are\n",
      "strong multicollinearity or other numerical problems.\n"
     ]
    },
    {
     "data": {
      "text/markdown": [
       "## 🔍 6-9 Regression for Dependent Variable: `Made a utility payment: using a financial institution account (% age 15+)`"
      ],
      "text/plain": [
       "<IPython.core.display.Markdown object>"
      ]
     },
     "metadata": {},
     "output_type": "display_data"
    },
    {
     "name": "stdout",
     "output_type": "stream",
     "text": [
      "                                                        OLS Regression Results                                                       \n",
      "=====================================================================================================================================\n",
      "Dep. Variable:     Made a utility payment: using a financial institution account (% age 15+)   R-squared:                       0.832\n",
      "Model:                                                                                   OLS   Adj. R-squared:                  0.826\n",
      "Method:                                                                        Least Squares   F-statistic:                     137.3\n",
      "Date:                                                                       Sun, 29 Jun 2025   Prob (F-statistic):           2.49e-81\n",
      "Time:                                                                               12:18:13   Log-Likelihood:                -562.13\n",
      "No. Observations:                                                                        230   AIC:                             1142.\n",
      "Df Residuals:                                                                            221   BIC:                             1173.\n",
      "Df Model:                                                                                  8                                         \n",
      "Covariance Type:                                                                   nonrobust                                         \n",
      "==============================================================================================================================================\n",
      "                                                                                 coef    std err          t      P>|t|      [0.025      0.975]\n",
      "----------------------------------------------------------------------------------------------------------------------------------------------\n",
      "const                                                                          1.8550      1.031      1.799      0.073      -0.178       3.888\n",
      "Fixed Broadband Subsciptions (per 100 people)                                 -0.1264      0.074     -1.712      0.088      -0.272       0.019\n",
      "Made a digital in-store merchant payment: using a mobile phone (% age 15+)    -0.1821      0.022     -8.465      0.000      -0.224      -0.140\n",
      "Made a utility payment: using a mobile phone (% age 15+)                       0.7987      0.056     14.230      0.000       0.688       0.909\n",
      "GDP per capita, PPP (constant 2021 international $)                            0.0006   6.06e-05     10.432      0.000       0.001       0.001\n",
      "Population density (people per sq. km of land area)                            0.0030      0.001      4.441      0.000       0.002       0.004\n",
      "Population growth (annual %)                                                   0.6127      0.438      1.397      0.164      -0.251       1.477\n",
      "foodSupply_stability                                                          -0.0524      0.016     -3.365      0.001      -0.083      -0.022\n",
      "Mortality rate, infant (per 1,000 live births)                                -0.0802      0.021     -3.773      0.000      -0.122      -0.038\n",
      "==============================================================================\n",
      "Omnibus:                       53.718   Durbin-Watson:                   0.278\n",
      "Prob(Omnibus):                  0.000   Jarque-Bera (JB):              112.903\n",
      "Skew:                           1.124   Prob(JB):                     3.04e-25\n",
      "Kurtosis:                       5.593   Cond. No.                     6.32e+04\n",
      "==============================================================================\n",
      "\n",
      "Notes:\n",
      "[1] Standard Errors assume that the covariance matrix of the errors is correctly specified.\n",
      "[2] The condition number is large, 6.32e+04. This might indicate that there are\n",
      "strong multicollinearity or other numerical problems.\n"
     ]
    },
    {
     "data": {
      "text/markdown": [
       "## 🔍 6-10 Regression for Dependent Variable: `Made a withdrawal (% with a financial institution account, age 15+)`"
      ],
      "text/plain": [
       "<IPython.core.display.Markdown object>"
      ]
     },
     "metadata": {},
     "output_type": "display_data"
    },
    {
     "name": "stdout",
     "output_type": "stream",
     "text": [
      "                                                     OLS Regression Results                                                    \n",
      "===============================================================================================================================\n",
      "Dep. Variable:     Made a withdrawal (% with a financial institution account, age 15+)   R-squared:                       0.724\n",
      "Model:                                                                             OLS   Adj. R-squared:                  0.714\n",
      "Method:                                                                  Least Squares   F-statistic:                     72.61\n",
      "Date:                                                                 Sun, 29 Jun 2025   Prob (F-statistic):           1.29e-57\n",
      "Time:                                                                         12:18:13   Log-Likelihood:                -792.10\n",
      "No. Observations:                                                                  230   AIC:                             1602.\n",
      "Df Residuals:                                                                      221   BIC:                             1633.\n",
      "Df Model:                                                                            8                                         \n",
      "Covariance Type:                                                             nonrobust                                         \n",
      "==============================================================================================================================================\n",
      "                                                                                 coef    std err          t      P>|t|      [0.025      0.975]\n",
      "----------------------------------------------------------------------------------------------------------------------------------------------\n",
      "const                                                                         43.2398      2.803     15.424      0.000      37.715      48.764\n",
      "Fixed Broadband Subsciptions (per 100 people)                                  1.5214      0.201      7.580      0.000       1.126       1.917\n",
      "Made a digital in-store merchant payment: using a mobile phone (% age 15+)     0.3876      0.058      6.629      0.000       0.272       0.503\n",
      "Made a utility payment: using a mobile phone (% age 15+)                      -0.6088      0.153     -3.991      0.000      -0.909      -0.308\n",
      "GDP per capita, PPP (constant 2021 international $)                            0.0003      0.000      2.089      0.038    1.95e-05       0.001\n",
      "Population density (people per sq. km of land area)                           -0.0091      0.002     -5.016      0.000      -0.013      -0.006\n",
      "Population growth (annual %)                                                  -0.4356      1.192     -0.366      0.715      -2.784       1.913\n",
      "foodSupply_stability                                                           0.1716      0.042      4.056      0.000       0.088       0.255\n",
      "Mortality rate, infant (per 1,000 live births)                                 0.0144      0.058      0.249      0.804      -0.100       0.128\n",
      "==============================================================================\n",
      "Omnibus:                       15.340   Durbin-Watson:                   0.236\n",
      "Prob(Omnibus):                  0.000   Jarque-Bera (JB):               16.497\n",
      "Skew:                           0.602   Prob(JB):                     0.000262\n",
      "Kurtosis:                       3.521   Cond. No.                     6.32e+04\n",
      "==============================================================================\n",
      "\n",
      "Notes:\n",
      "[1] Standard Errors assume that the covariance matrix of the errors is correctly specified.\n",
      "[2] The condition number is large, 6.32e+04. This might indicate that there are\n",
      "strong multicollinearity or other numerical problems.\n"
     ]
    },
    {
     "data": {
      "text/markdown": [
       "## 🔍 6-11 Regression for Dependent Variable: `Made or received a digital payment (% age 15+)`"
      ],
      "text/plain": [
       "<IPython.core.display.Markdown object>"
      ]
     },
     "metadata": {},
     "output_type": "display_data"
    },
    {
     "name": "stdout",
     "output_type": "stream",
     "text": [
      "                                          OLS Regression Results                                          \n",
      "==========================================================================================================\n",
      "Dep. Variable:     Made or received a digital payment (% age 15+)   R-squared:                       0.901\n",
      "Model:                                                        OLS   Adj. R-squared:                  0.897\n",
      "Method:                                             Least Squares   F-statistic:                     251.6\n",
      "Date:                                            Sun, 29 Jun 2025   Prob (F-statistic):          1.68e-106\n",
      "Time:                                                    12:18:13   Log-Likelihood:                -733.92\n",
      "No. Observations:                                             230   AIC:                             1486.\n",
      "Df Residuals:                                                 221   BIC:                             1517.\n",
      "Df Model:                                                       8                                         \n",
      "Covariance Type:                                        nonrobust                                         \n",
      "==============================================================================================================================================\n",
      "                                                                                 coef    std err          t      P>|t|      [0.025      0.975]\n",
      "----------------------------------------------------------------------------------------------------------------------------------------------\n",
      "const                                                                         17.6548      2.177      8.110      0.000      13.365      21.945\n",
      "Fixed Broadband Subsciptions (per 100 people)                                 -0.1613      0.156     -1.035      0.302      -0.468       0.146\n",
      "Made a digital in-store merchant payment: using a mobile phone (% age 15+)     0.1142      0.045      2.516      0.013       0.025       0.204\n",
      "Made a utility payment: using a mobile phone (% age 15+)                       1.6822      0.118     14.200      0.000       1.449       1.916\n",
      "GDP per capita, PPP (constant 2021 international $)                            0.0012      0.000      9.592      0.000       0.001       0.001\n",
      "Population density (people per sq. km of land area)                            0.0044      0.001      3.127      0.002       0.002       0.007\n",
      "Population growth (annual %)                                                  -0.5326      0.925     -0.576      0.565      -2.356       1.291\n",
      "foodSupply_stability                                                           0.0240      0.033      0.730      0.466      -0.041       0.089\n",
      "Mortality rate, infant (per 1,000 live births)                                -0.2427      0.045     -5.407      0.000      -0.331      -0.154\n",
      "==============================================================================\n",
      "Omnibus:                       10.625   Durbin-Watson:                   0.267\n",
      "Prob(Omnibus):                  0.005   Jarque-Bera (JB):               14.764\n",
      "Skew:                           0.319   Prob(JB):                     0.000623\n",
      "Kurtosis:                       4.065   Cond. No.                     6.32e+04\n",
      "==============================================================================\n",
      "\n",
      "Notes:\n",
      "[1] Standard Errors assume that the covariance matrix of the errors is correctly specified.\n",
      "[2] The condition number is large, 6.32e+04. This might indicate that there are\n",
      "strong multicollinearity or other numerical problems.\n"
     ]
    },
    {
     "data": {
      "text/markdown": [
       "## 🔍 6-12 Regression for Dependent Variable: `Mobile money account (% age 15+)`"
      ],
      "text/plain": [
       "<IPython.core.display.Markdown object>"
      ]
     },
     "metadata": {},
     "output_type": "display_data"
    },
    {
     "name": "stdout",
     "output_type": "stream",
     "text": [
      "                                   OLS Regression Results                                   \n",
      "============================================================================================\n",
      "Dep. Variable:     Mobile money account (% age 15+)   R-squared:                       0.844\n",
      "Model:                                          OLS   Adj. R-squared:                  0.839\n",
      "Method:                               Least Squares   F-statistic:                     149.9\n",
      "Date:                              Sun, 29 Jun 2025   Prob (F-statistic):           7.52e-85\n",
      "Time:                                      12:18:13   Log-Likelihood:                -660.85\n",
      "No. Observations:                               230   AIC:                             1340.\n",
      "Df Residuals:                                   221   BIC:                             1371.\n",
      "Df Model:                                         8                                         \n",
      "Covariance Type:                          nonrobust                                         \n",
      "==============================================================================================================================================\n",
      "                                                                                 coef    std err          t      P>|t|      [0.025      0.975]\n",
      "----------------------------------------------------------------------------------------------------------------------------------------------\n",
      "const                                                                          6.7259      1.584      4.245      0.000       3.604       9.848\n",
      "Fixed Broadband Subsciptions (per 100 people)                                 -0.3794      0.113     -3.345      0.001      -0.603      -0.156\n",
      "Made a digital in-store merchant payment: using a mobile phone (% age 15+)     0.1832      0.033      5.545      0.000       0.118       0.248\n",
      "Made a utility payment: using a mobile phone (% age 15+)                       2.1995      0.086     25.511      0.000       2.030       2.369\n",
      "GDP per capita, PPP (constant 2021 international $)                           -0.0007   9.31e-05     -7.731      0.000      -0.001      -0.001\n",
      "Population density (people per sq. km of land area)                            0.0039      0.001      3.835      0.000       0.002       0.006\n",
      "Population growth (annual %)                                                  -0.2734      0.674     -0.406      0.685      -1.601       1.054\n",
      "foodSupply_stability                                                           0.0696      0.024      2.910      0.004       0.022       0.117\n",
      "Mortality rate, infant (per 1,000 live births)                                -0.0319      0.033     -0.976      0.330      -0.096       0.032\n",
      "==============================================================================\n",
      "Omnibus:                       62.945   Durbin-Watson:                   0.286\n",
      "Prob(Omnibus):                  0.000   Jarque-Bera (JB):              151.027\n",
      "Skew:                           1.252   Prob(JB):                     1.60e-33\n",
      "Kurtosis:                       6.081   Cond. No.                     6.32e+04\n",
      "==============================================================================\n",
      "\n",
      "Notes:\n",
      "[1] Standard Errors assume that the covariance matrix of the errors is correctly specified.\n",
      "[2] The condition number is large, 6.32e+04. This might indicate that there are\n",
      "strong multicollinearity or other numerical problems.\n"
     ]
    },
    {
     "data": {
      "text/markdown": [
       "## 🔍 6-13 Regression for Dependent Variable: `Owns a debit or credit card (% age 15+)`"
      ],
      "text/plain": [
       "<IPython.core.display.Markdown object>"
      ]
     },
     "metadata": {},
     "output_type": "display_data"
    },
    {
     "name": "stdout",
     "output_type": "stream",
     "text": [
      "                                       OLS Regression Results                                      \n",
      "===================================================================================================\n",
      "Dep. Variable:     Owns a debit or credit card (% age 15+)   R-squared:                       0.889\n",
      "Model:                                                 OLS   Adj. R-squared:                  0.885\n",
      "Method:                                      Least Squares   F-statistic:                     220.5\n",
      "Date:                                     Sun, 29 Jun 2025   Prob (F-statistic):          7.48e-101\n",
      "Time:                                             12:18:13   Log-Likelihood:                -751.96\n",
      "No. Observations:                                      230   AIC:                             1522.\n",
      "Df Residuals:                                          221   BIC:                             1553.\n",
      "Df Model:                                                8                                         \n",
      "Covariance Type:                                 nonrobust                                         \n",
      "==============================================================================================================================================\n",
      "                                                                                 coef    std err          t      P>|t|      [0.025      0.975]\n",
      "----------------------------------------------------------------------------------------------------------------------------------------------\n",
      "const                                                                         10.0356      2.354      4.262      0.000       5.396      14.676\n",
      "Fixed Broadband Subsciptions (per 100 people)                                  0.4051      0.169      2.403      0.017       0.073       0.737\n",
      "Made a digital in-store merchant payment: using a mobile phone (% age 15+)     0.1865      0.049      3.798      0.000       0.090       0.283\n",
      "Made a utility payment: using a mobile phone (% age 15+)                       0.5000      0.128      3.902      0.000       0.247       0.753\n",
      "GDP per capita, PPP (constant 2021 international $)                            0.0017      0.000     12.067      0.000       0.001       0.002\n",
      "Population density (people per sq. km of land area)                           -0.0085      0.002     -5.583      0.000      -0.012      -0.006\n",
      "Population growth (annual %)                                                  -1.0435      1.001     -1.043      0.298      -3.016       0.929\n",
      "foodSupply_stability                                                          -0.0763      0.036     -2.147      0.033      -0.146      -0.006\n",
      "Mortality rate, infant (per 1,000 live births)                                -0.1269      0.049     -2.614      0.010      -0.223      -0.031\n",
      "==============================================================================\n",
      "Omnibus:                       14.246   Durbin-Watson:                   0.306\n",
      "Prob(Omnibus):                  0.001   Jarque-Bera (JB):               36.790\n",
      "Skew:                           0.117   Prob(JB):                     1.03e-08\n",
      "Kurtosis:                       4.945   Cond. No.                     6.32e+04\n",
      "==============================================================================\n",
      "\n",
      "Notes:\n",
      "[1] Standard Errors assume that the covariance matrix of the errors is correctly specified.\n",
      "[2] The condition number is large, 6.32e+04. This might indicate that there are\n",
      "strong multicollinearity or other numerical problems.\n"
     ]
    },
    {
     "data": {
      "text/markdown": [
       "## 🔍 6-14 Regression for Dependent Variable: `Received digital payments (% age 15+)`"
      ],
      "text/plain": [
       "<IPython.core.display.Markdown object>"
      ]
     },
     "metadata": {},
     "output_type": "display_data"
    },
    {
     "name": "stdout",
     "output_type": "stream",
     "text": [
      "                                      OLS Regression Results                                     \n",
      "=================================================================================================\n",
      "Dep. Variable:     Received digital payments (% age 15+)   R-squared:                       0.938\n",
      "Model:                                               OLS   Adj. R-squared:                  0.935\n",
      "Method:                                    Least Squares   F-statistic:                     414.4\n",
      "Date:                                   Sun, 29 Jun 2025   Prob (F-statistic):          1.71e-128\n",
      "Time:                                           12:18:13   Log-Likelihood:                -644.15\n",
      "No. Observations:                                    230   AIC:                             1306.\n",
      "Df Residuals:                                        221   BIC:                             1337.\n",
      "Df Model:                                              8                                         \n",
      "Covariance Type:                               nonrobust                                         \n",
      "==============================================================================================================================================\n",
      "                                                                                 coef    std err          t      P>|t|      [0.025      0.975]\n",
      "----------------------------------------------------------------------------------------------------------------------------------------------\n",
      "const                                                                          9.1569      1.473      6.215      0.000       6.253      12.061\n",
      "Fixed Broadband Subsciptions (per 100 people)                                 -0.2091      0.105     -1.983      0.049      -0.417      -0.001\n",
      "Made a digital in-store merchant payment: using a mobile phone (% age 15+)     0.2882      0.031      9.379      0.000       0.228       0.349\n",
      "Made a utility payment: using a mobile phone (% age 15+)                       1.5407      0.080     19.215      0.000       1.383       1.699\n",
      "GDP per capita, PPP (constant 2021 international $)                            0.0007   8.66e-05      8.581      0.000       0.001       0.001\n",
      "Population density (people per sq. km of land area)                           -0.0009      0.001     -0.911      0.364      -0.003       0.001\n",
      "Population growth (annual %)                                                  -0.0182      0.626     -0.029      0.977      -1.253       1.216\n",
      "foodSupply_stability                                                           0.0457      0.022      2.056      0.041       0.002       0.090\n",
      "Mortality rate, infant (per 1,000 live births)                                -0.1623      0.030     -5.345      0.000      -0.222      -0.102\n",
      "==============================================================================\n",
      "Omnibus:                        9.641   Durbin-Watson:                   0.303\n",
      "Prob(Omnibus):                  0.008   Jarque-Bera (JB):               15.170\n",
      "Skew:                           0.231   Prob(JB):                     0.000508\n",
      "Kurtosis:                       4.170   Cond. No.                     6.32e+04\n",
      "==============================================================================\n",
      "\n",
      "Notes:\n",
      "[1] Standard Errors assume that the covariance matrix of the errors is correctly specified.\n",
      "[2] The condition number is large, 6.32e+04. This might indicate that there are\n",
      "strong multicollinearity or other numerical problems.\n"
     ]
    },
    {
     "data": {
      "text/markdown": [
       "## 🔍 6-15 Regression for Dependent Variable: `Saved at a financial institution or using a mobile money account (% age 15+)`"
      ],
      "text/plain": [
       "<IPython.core.display.Markdown object>"
      ]
     },
     "metadata": {},
     "output_type": "display_data"
    },
    {
     "name": "stdout",
     "output_type": "stream",
     "text": [
      "                                                         OLS Regression Results                                                         \n",
      "========================================================================================================================================\n",
      "Dep. Variable:     Saved at a financial institution or using a mobile money account (% age 15+)   R-squared:                       0.939\n",
      "Model:                                                                                      OLS   Adj. R-squared:                  0.937\n",
      "Method:                                                                           Least Squares   F-statistic:                     427.7\n",
      "Date:                                                                          Sun, 29 Jun 2025   Prob (F-statistic):          6.54e-130\n",
      "Time:                                                                                  12:18:13   Log-Likelihood:                -619.88\n",
      "No. Observations:                                                                           230   AIC:                             1258.\n",
      "Df Residuals:                                                                               221   BIC:                             1289.\n",
      "Df Model:                                                                                     8                                         \n",
      "Covariance Type:                                                                      nonrobust                                         \n",
      "==============================================================================================================================================\n",
      "                                                                                 coef    std err          t      P>|t|      [0.025      0.975]\n",
      "----------------------------------------------------------------------------------------------------------------------------------------------\n",
      "const                                                                         13.3940      1.326     10.103      0.000      10.781      16.007\n",
      "Fixed Broadband Subsciptions (per 100 people)                                 -0.2524      0.095     -2.660      0.008      -0.440      -0.065\n",
      "Made a digital in-store merchant payment: using a mobile phone (% age 15+)     0.4173      0.028     15.089      0.000       0.363       0.472\n",
      "Made a utility payment: using a mobile phone (% age 15+)                      -0.2125      0.072     -2.945      0.004      -0.355      -0.070\n",
      "GDP per capita, PPP (constant 2021 international $)                            0.0013   7.79e-05     16.200      0.000       0.001       0.001\n",
      "Population density (people per sq. km of land area)                           -0.0044      0.001     -5.164      0.000      -0.006      -0.003\n",
      "Population growth (annual %)                                                  -2.9088      0.564     -5.161      0.000      -4.020      -1.798\n",
      "foodSupply_stability                                                           0.0601      0.020      3.002      0.003       0.021       0.100\n",
      "Mortality rate, infant (per 1,000 live births)                                -0.1690      0.027     -6.183      0.000      -0.223      -0.115\n",
      "==============================================================================\n",
      "Omnibus:                        8.688   Durbin-Watson:                   0.286\n",
      "Prob(Omnibus):                  0.013   Jarque-Bera (JB):                9.105\n",
      "Skew:                           0.484   Prob(JB):                       0.0105\n",
      "Kurtosis:                       2.887   Cond. No.                     6.32e+04\n",
      "==============================================================================\n",
      "\n",
      "Notes:\n",
      "[1] Standard Errors assume that the covariance matrix of the errors is correctly specified.\n",
      "[2] The condition number is large, 6.32e+04. This might indicate that there are\n",
      "strong multicollinearity or other numerical problems.\n"
     ]
    },
    {
     "data": {
      "text/markdown": [
       "## 🔍 6-16 Regression for Dependent Variable: `Saved money using a mobile money account (% age 15+)`"
      ],
      "text/plain": [
       "<IPython.core.display.Markdown object>"
      ]
     },
     "metadata": {},
     "output_type": "display_data"
    },
    {
     "name": "stdout",
     "output_type": "stream",
     "text": [
      "                                             OLS Regression Results                                             \n",
      "================================================================================================================\n",
      "Dep. Variable:     Saved money using a mobile money account (% age 15+)   R-squared:                       0.903\n",
      "Model:                                                              OLS   Adj. R-squared:                  0.899\n",
      "Method:                                                   Least Squares   F-statistic:                     257.1\n",
      "Date:                                                  Sun, 29 Jun 2025   Prob (F-statistic):          1.98e-107\n",
      "Time:                                                          12:18:13   Log-Likelihood:                -408.36\n",
      "No. Observations:                                                   230   AIC:                             834.7\n",
      "Df Residuals:                                                       221   BIC:                             865.7\n",
      "Df Model:                                                             8                                         \n",
      "Covariance Type:                                              nonrobust                                         \n",
      "==============================================================================================================================================\n",
      "                                                                                 coef    std err          t      P>|t|      [0.025      0.975]\n",
      "----------------------------------------------------------------------------------------------------------------------------------------------\n",
      "const                                                                          1.7048      0.529      3.225      0.001       0.663       2.746\n",
      "Fixed Broadband Subsciptions (per 100 people)                                 -0.2016      0.038     -5.327      0.000      -0.276      -0.127\n",
      "Made a digital in-store merchant payment: using a mobile phone (% age 15+)     0.3135      0.011     28.440      0.000       0.292       0.335\n",
      "Made a utility payment: using a mobile phone (% age 15+)                       0.1281      0.029      4.455      0.000       0.071       0.185\n",
      "GDP per capita, PPP (constant 2021 international $)                        -4.452e-05   3.11e-05     -1.434      0.153      -0.000    1.67e-05\n",
      "Population density (people per sq. km of land area)                            0.0002      0.000      0.468      0.641      -0.001       0.001\n",
      "Population growth (annual %)                                                   0.4073      0.225      1.813      0.071      -0.035       0.850\n",
      "foodSupply_stability                                                           0.0223      0.008      2.791      0.006       0.007       0.038\n",
      "Mortality rate, infant (per 1,000 live births)                                -0.0259      0.011     -2.374      0.018      -0.047      -0.004\n",
      "==============================================================================\n",
      "Omnibus:                       39.261   Durbin-Watson:                   0.172\n",
      "Prob(Omnibus):                  0.000   Jarque-Bera (JB):               53.623\n",
      "Skew:                           1.134   Prob(JB):                     2.27e-12\n",
      "Kurtosis:                       3.672   Cond. No.                     6.32e+04\n",
      "==============================================================================\n",
      "\n",
      "Notes:\n",
      "[1] Standard Errors assume that the covariance matrix of the errors is correctly specified.\n",
      "[2] The condition number is large, 6.32e+04. This might indicate that there are\n",
      "strong multicollinearity or other numerical problems.\n"
     ]
    },
    {
     "data": {
      "text/markdown": [
       "## 🔍 6-17 Regression for Dependent Variable: `Store money using a financial institution or a mobile money account (% age 15+)`"
      ],
      "text/plain": [
       "<IPython.core.display.Markdown object>"
      ]
     },
     "metadata": {},
     "output_type": "display_data"
    },
    {
     "name": "stdout",
     "output_type": "stream",
     "text": [
      "                                                           OLS Regression Results                                                          \n",
      "===========================================================================================================================================\n",
      "Dep. Variable:     Store money using a financial institution or a mobile money account (% age 15+)   R-squared:                       0.878\n",
      "Model:                                                                                         OLS   Adj. R-squared:                  0.873\n",
      "Method:                                                                              Least Squares   F-statistic:                     198.0\n",
      "Date:                                                                             Sun, 29 Jun 2025   Prob (F-statistic):           2.63e-96\n",
      "Time:                                                                                     12:18:13   Log-Likelihood:                -745.90\n",
      "No. Observations:                                                                              230   AIC:                             1510.\n",
      "Df Residuals:                                                                                  221   BIC:                             1541.\n",
      "Df Model:                                                                                        8                                         \n",
      "Covariance Type:                                                                         nonrobust                                         \n",
      "==============================================================================================================================================\n",
      "                                                                                 coef    std err          t      P>|t|      [0.025      0.975]\n",
      "----------------------------------------------------------------------------------------------------------------------------------------------\n",
      "const                                                                         24.3690      2.293     10.627      0.000      19.850      28.888\n",
      "Fixed Broadband Subsciptions (per 100 people)                                  0.3828      0.164      2.332      0.021       0.059       0.706\n",
      "Made a digital in-store merchant payment: using a mobile phone (% age 15+)     0.3869      0.048      8.090      0.000       0.293       0.481\n",
      "Made a utility payment: using a mobile phone (% age 15+)                      -0.6831      0.125     -5.474      0.000      -0.929      -0.437\n",
      "GDP per capita, PPP (constant 2021 international $)                            0.0015      0.000     11.129      0.000       0.001       0.002\n",
      "Population density (people per sq. km of land area)                           -0.0039      0.001     -2.595      0.010      -0.007      -0.001\n",
      "Population growth (annual %)                                                  -5.0043      0.975     -5.133      0.000      -6.926      -3.083\n",
      "foodSupply_stability                                                           0.0221      0.035      0.637      0.525      -0.046       0.090\n",
      "Mortality rate, infant (per 1,000 live births)                                -0.1965      0.047     -4.156      0.000      -0.290      -0.103\n",
      "==============================================================================\n",
      "Omnibus:                       12.469   Durbin-Watson:                   0.293\n",
      "Prob(Omnibus):                  0.002   Jarque-Bera (JB):               11.904\n",
      "Skew:                           0.502   Prob(JB):                      0.00260\n",
      "Kurtosis:                       2.517   Cond. No.                     6.32e+04\n",
      "==============================================================================\n",
      "\n",
      "Notes:\n",
      "[1] Standard Errors assume that the covariance matrix of the errors is correctly specified.\n",
      "[2] The condition number is large, 6.32e+04. This might indicate that there are\n",
      "strong multicollinearity or other numerical problems.\n"
     ]
    },
    {
     "data": {
      "text/markdown": [
       "## 🔍 6-18 Regression for Dependent Variable: `Store money using a financial institution or a mobile money account (% with an account,  age 15+)`"
      ],
      "text/plain": [
       "<IPython.core.display.Markdown object>"
      ]
     },
     "metadata": {},
     "output_type": "display_data"
    },
    {
     "name": "stdout",
     "output_type": "stream",
     "text": [
      "                                                                    OLS Regression Results                                                                   \n",
      "=============================================================================================================================================================\n",
      "Dep. Variable:     Store money using a financial institution or a mobile money account (% with an account,  age 15+)   R-squared:                       0.831\n",
      "Model:                                                                                                           OLS   Adj. R-squared:                  0.825\n",
      "Method:                                                                                                Least Squares   F-statistic:                     135.9\n",
      "Date:                                                                                               Sun, 29 Jun 2025   Prob (F-statistic):           6.37e-81\n",
      "Time:                                                                                                       12:18:13   Log-Likelihood:                -718.98\n",
      "No. Observations:                                                                                                230   AIC:                             1456.\n",
      "Df Residuals:                                                                                                    221   BIC:                             1487.\n",
      "Df Model:                                                                                                          8                                         \n",
      "Covariance Type:                                                                                           nonrobust                                         \n",
      "==============================================================================================================================================\n",
      "                                                                                 coef    std err          t      P>|t|      [0.025      0.975]\n",
      "----------------------------------------------------------------------------------------------------------------------------------------------\n",
      "const                                                                         47.5516      2.040     23.311      0.000      43.531      51.572\n",
      "Fixed Broadband Subsciptions (per 100 people)                                  1.6264      0.146     11.136      0.000       1.339       1.914\n",
      "Made a digital in-store merchant payment: using a mobile phone (% age 15+)     0.0882      0.043      2.072      0.039       0.004       0.172\n",
      "Made a utility payment: using a mobile phone (% age 15+)                      -0.8047      0.111     -7.249      0.000      -1.024      -0.586\n",
      "GDP per capita, PPP (constant 2021 international $)                            0.0007      0.000      5.625      0.000       0.000       0.001\n",
      "Population density (people per sq. km of land area)                           -0.0206      0.001    -15.558      0.000      -0.023      -0.018\n",
      "Population growth (annual %)                                                  -1.2317      0.867     -1.420      0.157      -2.941       0.477\n",
      "foodSupply_stability                                                           0.0381      0.031      1.239      0.217      -0.023       0.099\n",
      "Mortality rate, infant (per 1,000 live births)                                -0.0163      0.042     -0.387      0.699      -0.099       0.067\n",
      "==============================================================================\n",
      "Omnibus:                        3.959   Durbin-Watson:                   0.212\n",
      "Prob(Omnibus):                  0.138   Jarque-Bera (JB):                4.008\n",
      "Skew:                           0.317   Prob(JB):                        0.135\n",
      "Kurtosis:                       2.872   Cond. No.                     6.32e+04\n",
      "==============================================================================\n",
      "\n",
      "Notes:\n",
      "[1] Standard Errors assume that the covariance matrix of the errors is correctly specified.\n",
      "[2] The condition number is large, 6.32e+04. This might indicate that there are\n",
      "strong multicollinearity or other numerical problems.\n"
     ]
    },
    {
     "data": {
      "text/markdown": [
       "## 🔍 6-19 Regression for Dependent Variable: `Store money using a mobile money account (% age 15+)`"
      ],
      "text/plain": [
       "<IPython.core.display.Markdown object>"
      ]
     },
     "metadata": {},
     "output_type": "display_data"
    },
    {
     "name": "stdout",
     "output_type": "stream",
     "text": [
      "                                             OLS Regression Results                                             \n",
      "================================================================================================================\n",
      "Dep. Variable:     Store money using a mobile money account (% age 15+)   R-squared:                       0.928\n",
      "Model:                                                              OLS   Adj. R-squared:                  0.923\n",
      "Method:                                                   Least Squares   F-statistic:                     184.5\n",
      "Date:                                                  Sun, 29 Jun 2025   Prob (F-statistic):           1.59e-61\n",
      "Time:                                                          12:18:13   Log-Likelihood:                -221.95\n",
      "No. Observations:                                                   123   AIC:                             461.9\n",
      "Df Residuals:                                                       114   BIC:                             487.2\n",
      "Df Model:                                                             8                                         \n",
      "Covariance Type:                                              nonrobust                                         \n",
      "==============================================================================================================================================\n",
      "                                                                                 coef    std err          t      P>|t|      [0.025      0.975]\n",
      "----------------------------------------------------------------------------------------------------------------------------------------------\n",
      "const                                                                          9.1832      2.071      4.434      0.000       5.080      13.286\n",
      "Fixed Broadband Subsciptions (per 100 people)                                 -0.1989      0.053     -3.762      0.000      -0.304      -0.094\n",
      "Made a digital in-store merchant payment: using a mobile phone (% age 15+)     0.2699      0.023     11.524      0.000       0.224       0.316\n",
      "Made a utility payment: using a mobile phone (% age 15+)                       0.0713      0.037      1.941      0.055      -0.001       0.144\n",
      "GDP per capita, PPP (constant 2021 international $)                         9.089e-06    4.8e-05      0.189      0.850   -8.59e-05       0.000\n",
      "Population density (people per sq. km of land area)                           -0.0023      0.001     -4.469      0.000      -0.003      -0.001\n",
      "Population growth (annual %)                                                  -1.7365      0.753     -2.306      0.023      -3.228      -0.245\n",
      "foodSupply_stability                                                           0.0360      0.013      2.847      0.005       0.011       0.061\n",
      "Mortality rate, infant (per 1,000 live births)                                -0.0069      0.037     -0.190      0.850      -0.079       0.065\n",
      "==============================================================================\n",
      "Omnibus:                        9.490   Durbin-Watson:                   0.177\n",
      "Prob(Omnibus):                  0.009   Jarque-Bera (JB):                7.580\n",
      "Skew:                          -0.506   Prob(JB):                       0.0226\n",
      "Kurtosis:                       2.325   Cond. No.                     2.13e+05\n",
      "==============================================================================\n",
      "\n",
      "Notes:\n",
      "[1] Standard Errors assume that the covariance matrix of the errors is correctly specified.\n",
      "[2] The condition number is large, 2.13e+05. This might indicate that there are\n",
      "strong multicollinearity or other numerical problems.\n"
     ]
    },
    {
     "data": {
      "text/markdown": [
       "## 🔍 6-20 Regression for Dependent Variable: `Store money using a mobile money account (% with a mobile money account acount, age 15+)`"
      ],
      "text/plain": [
       "<IPython.core.display.Markdown object>"
      ]
     },
     "metadata": {},
     "output_type": "display_data"
    },
    {
     "name": "stdout",
     "output_type": "stream",
     "text": [
      "                                                               OLS Regression Results                                                               \n",
      "====================================================================================================================================================\n",
      "Dep. Variable:     Store money using a mobile money account (% with a mobile money account acount, age 15+)   R-squared:                       0.752\n",
      "Model:                                                                                                  OLS   Adj. R-squared:                  0.735\n",
      "Method:                                                                                       Least Squares   F-statistic:                     43.20\n",
      "Date:                                                                                      Sun, 29 Jun 2025   Prob (F-statistic):           4.57e-31\n",
      "Time:                                                                                              12:18:13   Log-Likelihood:                -394.61\n",
      "No. Observations:                                                                                       123   AIC:                             807.2\n",
      "Df Residuals:                                                                                           114   BIC:                             832.5\n",
      "Df Model:                                                                                                 8                                         \n",
      "Covariance Type:                                                                                  nonrobust                                         \n",
      "==============================================================================================================================================\n",
      "                                                                                 coef    std err          t      P>|t|      [0.025      0.975]\n",
      "----------------------------------------------------------------------------------------------------------------------------------------------\n",
      "const                                                                         57.5995      8.430      6.833      0.000      40.901      74.298\n",
      "Fixed Broadband Subsciptions (per 100 people)                                 -0.0225      0.215     -0.104      0.917      -0.449       0.404\n",
      "Made a digital in-store merchant payment: using a mobile phone (% age 15+)     0.1091      0.095      1.145      0.255      -0.080       0.298\n",
      "Made a utility payment: using a mobile phone (% age 15+)                       0.5428      0.149      3.632      0.000       0.247       0.839\n",
      "GDP per capita, PPP (constant 2021 international $)                           -0.0015      0.000     -7.858      0.000      -0.002      -0.001\n",
      "Population density (people per sq. km of land area)                           -0.0277      0.002    -12.936      0.000      -0.032      -0.023\n",
      "Population growth (annual %)                                                  19.6001      3.065      6.395      0.000      13.528      25.672\n",
      "foodSupply_stability                                                          -0.2696      0.052     -5.231      0.000      -0.372      -0.167\n",
      "Mortality rate, infant (per 1,000 live births)                                -0.2793      0.149     -1.879      0.063      -0.574       0.015\n",
      "==============================================================================\n",
      "Omnibus:                        6.756   Durbin-Watson:                   0.260\n",
      "Prob(Omnibus):                  0.034   Jarque-Bera (JB):                6.937\n",
      "Skew:                           0.579   Prob(JB):                       0.0312\n",
      "Kurtosis:                       2.897   Cond. No.                     2.13e+05\n",
      "==============================================================================\n",
      "\n",
      "Notes:\n",
      "[1] Standard Errors assume that the covariance matrix of the errors is correctly specified.\n",
      "[2] The condition number is large, 2.13e+05. This might indicate that there are\n",
      "strong multicollinearity or other numerical problems.\n"
     ]
    }
   ],
   "source": [
    "# Multiple Regression Analysis for Financial Inclusion Indicators\n",
    "import pandas as pd\n",
    "import statsmodels.api as sm\n",
    "from IPython.display import display, Markdown\n",
    "\n",
    "# Load the dataset\n",
    "df = pd.read_csv('../Data/processed/final_dataset.csv')\n",
    "\n",
    "# Define dependent (Y) and independent (X) variables\n",
    "y_vars = [\n",
    "    \"Account (% age 15+)\",\n",
    "    \"Account ownership at a financial institution or with a mobile-money-service provider (% of population ages 15+)\",\n",
    "    \"Current account balance (% of GDP)\",\n",
    "    \"Current account balance (BoP, current US$)\",\n",
    "    \"Financial institution account (% age 15+)\",\n",
    "    \"Made a deposit (% with a financial institution account, age 15+)\",\n",
    "    \"Made a digital payment (% age 15+)\",\n",
    "    \"Made a utility payment (% age 15+)\",\n",
    "    \"Made a utility payment: using a financial institution account (% age 15+)\",\n",
    "    \"Made a withdrawal (% with a financial institution account, age 15+)\",\n",
    "    \"Made or received a digital payment (% age 15+)\",\n",
    "    \"Mobile money account (% age 15+)\",\n",
    "    \"Owns a debit or credit card (% age 15+)\",\n",
    "    \"Received digital payments (% age 15+)\",\n",
    "    \"Saved at a financial institution or using a mobile money account (% age 15+)\",\n",
    "    \"Saved money using a mobile money account (% age 15+)\",\n",
    "    \"Store money using a financial institution or a mobile money account (% age 15+)\",\n",
    "    \"Store money using a financial institution or a mobile money account (% with an account,  age 15+)\",\n",
    "    \"Store money using a mobile money account (% age 15+)\",\n",
    "    \"Store money using a mobile money account (% with a mobile money account acount, age 15+)\"\n",
    "]\n",
    "\n",
    "# you can change following set of x_vars as you like\n",
    "#\n",
    "x_vars = [\n",
    "    'Fixed Broadband Subsciptions (per 100 people)',\n",
    "    'Made a digital in-store merchant payment: using a mobile phone (% age 15+)',\n",
    "    'Made a utility payment: using a mobile phone (% age 15+)',\n",
    "    'GDP per capita, PPP (constant 2021 international $)',\n",
    "    'Population density (people per sq. km of land area)',\n",
    "    'Population growth (annual %)', 'foodSupply_stability',\n",
    "    'Mortality rate, infant (per 1,000 live births)'\n",
    "]\n",
    "\n",
    "# Filter for valid columns\n",
    "y_vars = [y for y in y_vars if y in df.columns]\n",
    "x_vars = [x for x in x_vars if x in df.columns]\n",
    "\n",
    "# check multicollinearity\n",
    "df_x_only = df[x_vars].replace([np.inf, -np.inf], np.nan).dropna()\n",
    "vif_data = pd.DataFrame()\n",
    "vif_data[\"Variable\"] = df_x_only.columns\n",
    "vif_data[\"VIF\"] = [variance_inflation_factor(df_x_only.values, i) for i in range(df_x_only.shape[1])]\n",
    "display(Markdown(f\"## VIF(variane inflation facrot) for current set of X-variables \"))\n",
    "print(vif_data)\n",
    "print(\"\")\n",
    "print(\"| VIF Range       | Variables | Severity          |\")\n",
    "print(\"|-----------------|-----------|-------------------|\")\n",
    "print(\"| > 10,000       | 7         | Critical          |\")\n",
    "print(\"| 1,000 - 10,000 | 7         | Severe            |\")\n",
    "print(\"| 100 - 1,000    | 8         | High              |\")\n",
    "print(\"| 10 - 100       | 3         | Moderate          |\")\n",
    "print(\"| < 10           | 4         | Acceptable        |\")\n",
    "\n",
    "\n",
    "# Run multiple regression for each Y\n",
    "yCount = 0\n",
    "for y in y_vars:\n",
    "    yCount = yCount + 1\n",
    "    sub_df = df[[y] + x_vars].dropna()\n",
    "    if len(sub_df) > 20:\n",
    "        X = sm.add_constant(sub_df[x_vars])\n",
    "        y_data = sub_df[y]\n",
    "        model = sm.OLS(y_data, X).fit()\n",
    "\n",
    "        # Clean output without Markdown code block styling\n",
    "        display(Markdown(f\"## 🔍 6-{yCount} Regression for Dependent Variable: `{y}`\"))\n",
    "        print(model.summary())\n"
   ]
  }
 ],
 "metadata": {
  "kernelspec": {
   "display_name": "graspp25",
   "language": "python",
   "name": "python3"
  },
  "language_info": {
   "codemirror_mode": {
    "name": "ipython",
    "version": 3
   },
   "file_extension": ".py",
   "mimetype": "text/x-python",
   "name": "python",
   "nbconvert_exporter": "python",
   "pygments_lexer": "ipython3",
   "version": "3.12.8"
  }
 },
 "nbformat": 4,
 "nbformat_minor": 5
}
